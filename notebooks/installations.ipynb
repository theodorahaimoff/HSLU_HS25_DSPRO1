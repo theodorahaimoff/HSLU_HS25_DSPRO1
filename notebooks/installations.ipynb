{
 "cells": [
  {
   "cell_type": "code",
   "id": "806f012d-ba00-499c-81e8-18fd84235256",
   "metadata": {
    "ExecuteTime": {
     "end_time": "2025-10-26T15:12:53.185780Z",
     "start_time": "2025-10-26T15:12:49.941617Z"
    }
   },
   "source": [
    "!pip install --upgrade pip\n",
    "!pip install -r '../requirements.txt'"
   ],
   "outputs": [
    {
     "name": "stdout",
     "output_type": "stream",
     "text": [
      "Requirement already satisfied: pip in /home/theodora/PycharmProjects/HSLU_HS25_DSPRO1/.venv/lib/python3.12/site-packages (25.3)\r\n",
      "Requirement already satisfied: chromadb==0.5.18 in /home/theodora/PycharmProjects/HSLU_HS25_DSPRO1/.venv/lib/python3.12/site-packages (from -r ../requirements.txt (line 1)) (0.5.18)\r\n",
      "Requirement already satisfied: pymupdf==1.24.10 in /home/theodora/PycharmProjects/HSLU_HS25_DSPRO1/.venv/lib/python3.12/site-packages (from -r ../requirements.txt (line 2)) (1.24.10)\r\n",
      "Requirement already satisfied: sentence-transformers==3.2.1 in /home/theodora/PycharmProjects/HSLU_HS25_DSPRO1/.venv/lib/python3.12/site-packages (from -r ../requirements.txt (line 3)) (3.2.1)\r\n",
      "Requirement already satisfied: langchain-text-splitters==0.3.2 in /home/theodora/PycharmProjects/HSLU_HS25_DSPRO1/.venv/lib/python3.12/site-packages (from -r ../requirements.txt (line 4)) (0.3.2)\r\n",
      "Requirement already satisfied: tqdm==4.67.1 in /home/theodora/PycharmProjects/HSLU_HS25_DSPRO1/.venv/lib/python3.12/site-packages (from -r ../requirements.txt (line 5)) (4.67.1)\r\n",
      "Requirement already satisfied: requests>=2.32.3 in /home/theodora/PycharmProjects/HSLU_HS25_DSPRO1/.venv/lib/python3.12/site-packages (from -r ../requirements.txt (line 6)) (2.32.5)\r\n",
      "Requirement already satisfied: python-dotenv>=1.0.1 in /home/theodora/PycharmProjects/HSLU_HS25_DSPRO1/.venv/lib/python3.12/site-packages (from -r ../requirements.txt (line 7)) (1.1.1)\r\n",
      "Requirement already satisfied: transformers>=4.45.1 in /home/theodora/PycharmProjects/HSLU_HS25_DSPRO1/.venv/lib/python3.12/site-packages (from -r ../requirements.txt (line 10)) (4.57.0)\r\n",
      "Requirement already satisfied: torch>=2.5.1 in /home/theodora/PycharmProjects/HSLU_HS25_DSPRO1/.venv/lib/python3.12/site-packages (from -r ../requirements.txt (line 11)) (2.8.0)\r\n",
      "Requirement already satisfied: build>=1.0.3 in /home/theodora/PycharmProjects/HSLU_HS25_DSPRO1/.venv/lib/python3.12/site-packages (from chromadb==0.5.18->-r ../requirements.txt (line 1)) (1.3.0)\r\n",
      "Requirement already satisfied: pydantic>=1.9 in /home/theodora/PycharmProjects/HSLU_HS25_DSPRO1/.venv/lib/python3.12/site-packages (from chromadb==0.5.18->-r ../requirements.txt (line 1)) (2.12.2)\r\n",
      "Requirement already satisfied: chroma-hnswlib==0.7.6 in /home/theodora/PycharmProjects/HSLU_HS25_DSPRO1/.venv/lib/python3.12/site-packages (from chromadb==0.5.18->-r ../requirements.txt (line 1)) (0.7.6)\r\n",
      "Requirement already satisfied: fastapi>=0.95.2 in /home/theodora/PycharmProjects/HSLU_HS25_DSPRO1/.venv/lib/python3.12/site-packages (from chromadb==0.5.18->-r ../requirements.txt (line 1)) (0.119.0)\r\n",
      "Requirement already satisfied: uvicorn>=0.18.3 in /home/theodora/PycharmProjects/HSLU_HS25_DSPRO1/.venv/lib/python3.12/site-packages (from uvicorn[standard]>=0.18.3->chromadb==0.5.18->-r ../requirements.txt (line 1)) (0.37.0)\r\n",
      "Requirement already satisfied: numpy>=1.22.5 in /usr/lib/python3/dist-packages (from chromadb==0.5.18->-r ../requirements.txt (line 1)) (1.26.4)\r\n",
      "Requirement already satisfied: posthog>=2.4.0 in /home/theodora/PycharmProjects/HSLU_HS25_DSPRO1/.venv/lib/python3.12/site-packages (from chromadb==0.5.18->-r ../requirements.txt (line 1)) (2.5.0)\r\n",
      "Requirement already satisfied: typing-extensions>=4.5.0 in /home/theodora/PycharmProjects/HSLU_HS25_DSPRO1/.venv/lib/python3.12/site-packages (from chromadb==0.5.18->-r ../requirements.txt (line 1)) (4.15.0)\r\n",
      "Requirement already satisfied: onnxruntime>=1.14.1 in /home/theodora/PycharmProjects/HSLU_HS25_DSPRO1/.venv/lib/python3.12/site-packages (from chromadb==0.5.18->-r ../requirements.txt (line 1)) (1.23.1)\r\n",
      "Requirement already satisfied: opentelemetry-api>=1.2.0 in /home/theodora/PycharmProjects/HSLU_HS25_DSPRO1/.venv/lib/python3.12/site-packages (from chromadb==0.5.18->-r ../requirements.txt (line 1)) (1.37.0)\r\n",
      "Requirement already satisfied: opentelemetry-exporter-otlp-proto-grpc>=1.2.0 in /home/theodora/PycharmProjects/HSLU_HS25_DSPRO1/.venv/lib/python3.12/site-packages (from chromadb==0.5.18->-r ../requirements.txt (line 1)) (1.37.0)\r\n",
      "Requirement already satisfied: opentelemetry-instrumentation-fastapi>=0.41b0 in /home/theodora/PycharmProjects/HSLU_HS25_DSPRO1/.venv/lib/python3.12/site-packages (from chromadb==0.5.18->-r ../requirements.txt (line 1)) (0.58b0)\r\n",
      "Requirement already satisfied: opentelemetry-sdk>=1.2.0 in /home/theodora/PycharmProjects/HSLU_HS25_DSPRO1/.venv/lib/python3.12/site-packages (from chromadb==0.5.18->-r ../requirements.txt (line 1)) (1.37.0)\r\n",
      "Requirement already satisfied: tokenizers>=0.13.2 in /home/theodora/PycharmProjects/HSLU_HS25_DSPRO1/.venv/lib/python3.12/site-packages (from chromadb==0.5.18->-r ../requirements.txt (line 1)) (0.22.1)\r\n",
      "Requirement already satisfied: pypika>=0.48.9 in /home/theodora/PycharmProjects/HSLU_HS25_DSPRO1/.venv/lib/python3.12/site-packages (from chromadb==0.5.18->-r ../requirements.txt (line 1)) (0.48.9)\r\n",
      "Requirement already satisfied: overrides>=7.3.1 in /home/theodora/PycharmProjects/HSLU_HS25_DSPRO1/.venv/lib/python3.12/site-packages (from chromadb==0.5.18->-r ../requirements.txt (line 1)) (7.7.0)\r\n",
      "Requirement already satisfied: importlib-resources in /home/theodora/PycharmProjects/HSLU_HS25_DSPRO1/.venv/lib/python3.12/site-packages (from chromadb==0.5.18->-r ../requirements.txt (line 1)) (6.5.2)\r\n",
      "Requirement already satisfied: grpcio>=1.58.0 in /home/theodora/PycharmProjects/HSLU_HS25_DSPRO1/.venv/lib/python3.12/site-packages (from chromadb==0.5.18->-r ../requirements.txt (line 1)) (1.75.1)\r\n",
      "Requirement already satisfied: bcrypt>=4.0.1 in /home/theodora/PycharmProjects/HSLU_HS25_DSPRO1/.venv/lib/python3.12/site-packages (from chromadb==0.5.18->-r ../requirements.txt (line 1)) (5.0.0)\r\n",
      "Requirement already satisfied: typer>=0.9.0 in /home/theodora/PycharmProjects/HSLU_HS25_DSPRO1/.venv/lib/python3.12/site-packages (from chromadb==0.5.18->-r ../requirements.txt (line 1)) (0.19.2)\r\n",
      "Requirement already satisfied: kubernetes>=28.1.0 in /home/theodora/PycharmProjects/HSLU_HS25_DSPRO1/.venv/lib/python3.12/site-packages (from chromadb==0.5.18->-r ../requirements.txt (line 1)) (34.1.0)\r\n",
      "Requirement already satisfied: tenacity>=8.2.3 in /home/theodora/PycharmProjects/HSLU_HS25_DSPRO1/.venv/lib/python3.12/site-packages (from chromadb==0.5.18->-r ../requirements.txt (line 1)) (8.5.0)\r\n",
      "Requirement already satisfied: PyYAML>=6.0.0 in /usr/lib/python3/dist-packages (from chromadb==0.5.18->-r ../requirements.txt (line 1)) (6.0.1)\r\n",
      "Requirement already satisfied: mmh3>=4.0.1 in /home/theodora/PycharmProjects/HSLU_HS25_DSPRO1/.venv/lib/python3.12/site-packages (from chromadb==0.5.18->-r ../requirements.txt (line 1)) (5.2.0)\r\n",
      "Requirement already satisfied: orjson>=3.9.12 in /home/theodora/PycharmProjects/HSLU_HS25_DSPRO1/.venv/lib/python3.12/site-packages (from chromadb==0.5.18->-r ../requirements.txt (line 1)) (3.11.3)\r\n",
      "Requirement already satisfied: httpx>=0.27.0 in /home/theodora/.local/lib/python3.12/site-packages (from chromadb==0.5.18->-r ../requirements.txt (line 1)) (0.28.1)\r\n",
      "Requirement already satisfied: rich>=10.11.0 in /usr/lib/python3/dist-packages (from chromadb==0.5.18->-r ../requirements.txt (line 1)) (13.7.1)\r\n",
      "Requirement already satisfied: PyMuPDFb==1.24.10 in /home/theodora/PycharmProjects/HSLU_HS25_DSPRO1/.venv/lib/python3.12/site-packages (from pymupdf==1.24.10->-r ../requirements.txt (line 2)) (1.24.10)\r\n",
      "Requirement already satisfied: scikit-learn in /home/theodora/PycharmProjects/HSLU_HS25_DSPRO1/.venv/lib/python3.12/site-packages (from sentence-transformers==3.2.1->-r ../requirements.txt (line 3)) (1.7.2)\r\n",
      "Requirement already satisfied: scipy in /home/theodora/PycharmProjects/HSLU_HS25_DSPRO1/.venv/lib/python3.12/site-packages (from sentence-transformers==3.2.1->-r ../requirements.txt (line 3)) (1.16.2)\r\n",
      "Requirement already satisfied: huggingface-hub>=0.20.0 in /home/theodora/PycharmProjects/HSLU_HS25_DSPRO1/.venv/lib/python3.12/site-packages (from sentence-transformers==3.2.1->-r ../requirements.txt (line 3)) (0.35.3)\r\n",
      "Requirement already satisfied: Pillow in /usr/lib/python3/dist-packages (from sentence-transformers==3.2.1->-r ../requirements.txt (line 3)) (10.2.0)\r\n",
      "Requirement already satisfied: langchain-core<0.4.0,>=0.3.15 in /home/theodora/PycharmProjects/HSLU_HS25_DSPRO1/.venv/lib/python3.12/site-packages (from langchain-text-splitters==0.3.2->-r ../requirements.txt (line 4)) (0.3.79)\r\n",
      "Requirement already satisfied: filelock in /home/theodora/PycharmProjects/HSLU_HS25_DSPRO1/.venv/lib/python3.12/site-packages (from transformers>=4.45.1->-r ../requirements.txt (line 10)) (3.20.0)\r\n",
      "Requirement already satisfied: packaging>=20.0 in /usr/lib/python3/dist-packages (from transformers>=4.45.1->-r ../requirements.txt (line 10)) (24.0)\r\n",
      "Requirement already satisfied: regex!=2019.12.17 in /home/theodora/PycharmProjects/HSLU_HS25_DSPRO1/.venv/lib/python3.12/site-packages (from transformers>=4.45.1->-r ../requirements.txt (line 10)) (2025.9.18)\r\n",
      "Requirement already satisfied: safetensors>=0.4.3 in /home/theodora/PycharmProjects/HSLU_HS25_DSPRO1/.venv/lib/python3.12/site-packages (from transformers>=4.45.1->-r ../requirements.txt (line 10)) (0.6.2)\r\n",
      "Requirement already satisfied: fsspec>=2023.5.0 in /home/theodora/PycharmProjects/HSLU_HS25_DSPRO1/.venv/lib/python3.12/site-packages (from huggingface-hub>=0.20.0->sentence-transformers==3.2.1->-r ../requirements.txt (line 3)) (2025.9.0)\r\n",
      "Requirement already satisfied: hf-xet<2.0.0,>=1.1.3 in /home/theodora/PycharmProjects/HSLU_HS25_DSPRO1/.venv/lib/python3.12/site-packages (from huggingface-hub>=0.20.0->sentence-transformers==3.2.1->-r ../requirements.txt (line 3)) (1.1.10)\r\n",
      "Requirement already satisfied: langsmith<1.0.0,>=0.3.45 in /home/theodora/PycharmProjects/HSLU_HS25_DSPRO1/.venv/lib/python3.12/site-packages (from langchain-core<0.4.0,>=0.3.15->langchain-text-splitters==0.3.2->-r ../requirements.txt (line 4)) (0.4.38)\r\n",
      "Requirement already satisfied: jsonpatch<2.0.0,>=1.33.0 in /home/theodora/PycharmProjects/HSLU_HS25_DSPRO1/.venv/lib/python3.12/site-packages (from langchain-core<0.4.0,>=0.3.15->langchain-text-splitters==0.3.2->-r ../requirements.txt (line 4)) (1.33)\r\n",
      "Requirement already satisfied: jsonpointer>=1.9 in /home/theodora/.local/lib/python3.12/site-packages (from jsonpatch<2.0.0,>=1.33.0->langchain-core<0.4.0,>=0.3.15->langchain-text-splitters==0.3.2->-r ../requirements.txt (line 4)) (3.0.0)\r\n",
      "Requirement already satisfied: requests-toolbelt>=1.0.0 in /home/theodora/PycharmProjects/HSLU_HS25_DSPRO1/.venv/lib/python3.12/site-packages (from langsmith<1.0.0,>=0.3.45->langchain-core<0.4.0,>=0.3.15->langchain-text-splitters==0.3.2->-r ../requirements.txt (line 4)) (1.0.0)\r\n",
      "Requirement already satisfied: zstandard>=0.23.0 in /home/theodora/PycharmProjects/HSLU_HS25_DSPRO1/.venv/lib/python3.12/site-packages (from langsmith<1.0.0,>=0.3.45->langchain-core<0.4.0,>=0.3.15->langchain-text-splitters==0.3.2->-r ../requirements.txt (line 4)) (0.25.0)\r\n",
      "Requirement already satisfied: anyio in /home/theodora/.local/lib/python3.12/site-packages (from httpx>=0.27.0->chromadb==0.5.18->-r ../requirements.txt (line 1)) (4.10.0)\r\n",
      "Requirement already satisfied: certifi in /usr/lib/python3/dist-packages (from httpx>=0.27.0->chromadb==0.5.18->-r ../requirements.txt (line 1)) (2023.11.17)\r\n",
      "Requirement already satisfied: httpcore==1.* in /home/theodora/.local/lib/python3.12/site-packages (from httpx>=0.27.0->chromadb==0.5.18->-r ../requirements.txt (line 1)) (1.0.9)\r\n",
      "Requirement already satisfied: idna in /usr/lib/python3/dist-packages (from httpx>=0.27.0->chromadb==0.5.18->-r ../requirements.txt (line 1)) (3.6)\r\n",
      "Requirement already satisfied: h11>=0.16 in /home/theodora/.local/lib/python3.12/site-packages (from httpcore==1.*->httpx>=0.27.0->chromadb==0.5.18->-r ../requirements.txt (line 1)) (0.16.0)\r\n",
      "Requirement already satisfied: annotated-types>=0.6.0 in /home/theodora/PycharmProjects/HSLU_HS25_DSPRO1/.venv/lib/python3.12/site-packages (from pydantic>=1.9->chromadb==0.5.18->-r ../requirements.txt (line 1)) (0.7.0)\r\n",
      "Requirement already satisfied: pydantic-core==2.41.4 in /home/theodora/PycharmProjects/HSLU_HS25_DSPRO1/.venv/lib/python3.12/site-packages (from pydantic>=1.9->chromadb==0.5.18->-r ../requirements.txt (line 1)) (2.41.4)\r\n",
      "Requirement already satisfied: typing-inspection>=0.4.2 in /home/theodora/PycharmProjects/HSLU_HS25_DSPRO1/.venv/lib/python3.12/site-packages (from pydantic>=1.9->chromadb==0.5.18->-r ../requirements.txt (line 1)) (0.4.2)\r\n",
      "Requirement already satisfied: charset_normalizer<4,>=2 in /home/theodora/PycharmProjects/HSLU_HS25_DSPRO1/.venv/lib/python3.12/site-packages (from requests>=2.32.3->-r ../requirements.txt (line 6)) (3.4.4)\r\n",
      "Requirement already satisfied: urllib3<3,>=1.21.1 in /usr/lib/python3/dist-packages (from requests>=2.32.3->-r ../requirements.txt (line 6)) (2.0.7)\r\n",
      "Requirement already satisfied: setuptools in /usr/lib/python3/dist-packages (from torch>=2.5.1->-r ../requirements.txt (line 11)) (68.1.2)\r\n",
      "Requirement already satisfied: sympy>=1.13.3 in /home/theodora/PycharmProjects/HSLU_HS25_DSPRO1/.venv/lib/python3.12/site-packages (from torch>=2.5.1->-r ../requirements.txt (line 11)) (1.14.0)\r\n",
      "Requirement already satisfied: networkx in /home/theodora/PycharmProjects/HSLU_HS25_DSPRO1/.venv/lib/python3.12/site-packages (from torch>=2.5.1->-r ../requirements.txt (line 11)) (3.5)\r\n",
      "Requirement already satisfied: jinja2 in /usr/lib/python3/dist-packages (from torch>=2.5.1->-r ../requirements.txt (line 11)) (3.1.2)\r\n",
      "Requirement already satisfied: nvidia-cuda-nvrtc-cu12==12.8.93 in /home/theodora/PycharmProjects/HSLU_HS25_DSPRO1/.venv/lib/python3.12/site-packages (from torch>=2.5.1->-r ../requirements.txt (line 11)) (12.8.93)\r\n",
      "Requirement already satisfied: nvidia-cuda-runtime-cu12==12.8.90 in /home/theodora/PycharmProjects/HSLU_HS25_DSPRO1/.venv/lib/python3.12/site-packages (from torch>=2.5.1->-r ../requirements.txt (line 11)) (12.8.90)\r\n",
      "Requirement already satisfied: nvidia-cuda-cupti-cu12==12.8.90 in /home/theodora/PycharmProjects/HSLU_HS25_DSPRO1/.venv/lib/python3.12/site-packages (from torch>=2.5.1->-r ../requirements.txt (line 11)) (12.8.90)\r\n",
      "Requirement already satisfied: nvidia-cudnn-cu12==9.10.2.21 in /home/theodora/PycharmProjects/HSLU_HS25_DSPRO1/.venv/lib/python3.12/site-packages (from torch>=2.5.1->-r ../requirements.txt (line 11)) (9.10.2.21)\r\n",
      "Requirement already satisfied: nvidia-cublas-cu12==12.8.4.1 in /home/theodora/PycharmProjects/HSLU_HS25_DSPRO1/.venv/lib/python3.12/site-packages (from torch>=2.5.1->-r ../requirements.txt (line 11)) (12.8.4.1)\r\n",
      "Requirement already satisfied: nvidia-cufft-cu12==11.3.3.83 in /home/theodora/PycharmProjects/HSLU_HS25_DSPRO1/.venv/lib/python3.12/site-packages (from torch>=2.5.1->-r ../requirements.txt (line 11)) (11.3.3.83)\r\n",
      "Requirement already satisfied: nvidia-curand-cu12==10.3.9.90 in /home/theodora/PycharmProjects/HSLU_HS25_DSPRO1/.venv/lib/python3.12/site-packages (from torch>=2.5.1->-r ../requirements.txt (line 11)) (10.3.9.90)\r\n",
      "Requirement already satisfied: nvidia-cusolver-cu12==11.7.3.90 in /home/theodora/PycharmProjects/HSLU_HS25_DSPRO1/.venv/lib/python3.12/site-packages (from torch>=2.5.1->-r ../requirements.txt (line 11)) (11.7.3.90)\r\n",
      "Requirement already satisfied: nvidia-cusparse-cu12==12.5.8.93 in /home/theodora/PycharmProjects/HSLU_HS25_DSPRO1/.venv/lib/python3.12/site-packages (from torch>=2.5.1->-r ../requirements.txt (line 11)) (12.5.8.93)\r\n",
      "Requirement already satisfied: nvidia-cusparselt-cu12==0.7.1 in /home/theodora/PycharmProjects/HSLU_HS25_DSPRO1/.venv/lib/python3.12/site-packages (from torch>=2.5.1->-r ../requirements.txt (line 11)) (0.7.1)\r\n",
      "Requirement already satisfied: nvidia-nccl-cu12==2.27.3 in /home/theodora/PycharmProjects/HSLU_HS25_DSPRO1/.venv/lib/python3.12/site-packages (from torch>=2.5.1->-r ../requirements.txt (line 11)) (2.27.3)\r\n",
      "Requirement already satisfied: nvidia-nvtx-cu12==12.8.90 in /home/theodora/PycharmProjects/HSLU_HS25_DSPRO1/.venv/lib/python3.12/site-packages (from torch>=2.5.1->-r ../requirements.txt (line 11)) (12.8.90)\r\n",
      "Requirement already satisfied: nvidia-nvjitlink-cu12==12.8.93 in /home/theodora/PycharmProjects/HSLU_HS25_DSPRO1/.venv/lib/python3.12/site-packages (from torch>=2.5.1->-r ../requirements.txt (line 11)) (12.8.93)\r\n",
      "Requirement already satisfied: nvidia-cufile-cu12==1.13.1.3 in /home/theodora/PycharmProjects/HSLU_HS25_DSPRO1/.venv/lib/python3.12/site-packages (from torch>=2.5.1->-r ../requirements.txt (line 11)) (1.13.1.3)\r\n",
      "Requirement already satisfied: triton==3.4.0 in /home/theodora/PycharmProjects/HSLU_HS25_DSPRO1/.venv/lib/python3.12/site-packages (from torch>=2.5.1->-r ../requirements.txt (line 11)) (3.4.0)\r\n",
      "Requirement already satisfied: pyproject_hooks in /home/theodora/PycharmProjects/HSLU_HS25_DSPRO1/.venv/lib/python3.12/site-packages (from build>=1.0.3->chromadb==0.5.18->-r ../requirements.txt (line 1)) (1.2.0)\r\n",
      "Requirement already satisfied: starlette<0.49.0,>=0.40.0 in /home/theodora/PycharmProjects/HSLU_HS25_DSPRO1/.venv/lib/python3.12/site-packages (from fastapi>=0.95.2->chromadb==0.5.18->-r ../requirements.txt (line 1)) (0.48.0)\r\n",
      "Requirement already satisfied: sniffio>=1.1 in /home/theodora/.local/lib/python3.12/site-packages (from anyio->httpx>=0.27.0->chromadb==0.5.18->-r ../requirements.txt (line 1)) (1.3.1)\r\n",
      "Requirement already satisfied: six>=1.9.0 in /usr/lib/python3/dist-packages (from kubernetes>=28.1.0->chromadb==0.5.18->-r ../requirements.txt (line 1)) (1.16.0)\r\n",
      "Requirement already satisfied: python-dateutil>=2.5.3 in /home/theodora/.local/lib/python3.12/site-packages (from kubernetes>=28.1.0->chromadb==0.5.18->-r ../requirements.txt (line 1)) (2.9.0.post0)\r\n",
      "Requirement already satisfied: google-auth>=1.0.1 in /home/theodora/PycharmProjects/HSLU_HS25_DSPRO1/.venv/lib/python3.12/site-packages (from kubernetes>=28.1.0->chromadb==0.5.18->-r ../requirements.txt (line 1)) (2.41.1)\r\n",
      "Requirement already satisfied: websocket-client!=0.40.0,!=0.41.*,!=0.42.*,>=0.32.0 in /home/theodora/.local/lib/python3.12/site-packages (from kubernetes>=28.1.0->chromadb==0.5.18->-r ../requirements.txt (line 1)) (1.8.0)\r\n",
      "Requirement already satisfied: requests-oauthlib in /home/theodora/PycharmProjects/HSLU_HS25_DSPRO1/.venv/lib/python3.12/site-packages (from kubernetes>=28.1.0->chromadb==0.5.18->-r ../requirements.txt (line 1)) (2.0.0)\r\n",
      "Requirement already satisfied: durationpy>=0.7 in /home/theodora/PycharmProjects/HSLU_HS25_DSPRO1/.venv/lib/python3.12/site-packages (from kubernetes>=28.1.0->chromadb==0.5.18->-r ../requirements.txt (line 1)) (0.10)\r\n",
      "Requirement already satisfied: cachetools<7.0,>=2.0.0 in /home/theodora/PycharmProjects/HSLU_HS25_DSPRO1/.venv/lib/python3.12/site-packages (from google-auth>=1.0.1->kubernetes>=28.1.0->chromadb==0.5.18->-r ../requirements.txt (line 1)) (5.5.2)\r\n",
      "Requirement already satisfied: pyasn1-modules>=0.2.1 in /home/theodora/PycharmProjects/HSLU_HS25_DSPRO1/.venv/lib/python3.12/site-packages (from google-auth>=1.0.1->kubernetes>=28.1.0->chromadb==0.5.18->-r ../requirements.txt (line 1)) (0.4.2)\r\n",
      "Requirement already satisfied: rsa<5,>=3.1.4 in /home/theodora/PycharmProjects/HSLU_HS25_DSPRO1/.venv/lib/python3.12/site-packages (from google-auth>=1.0.1->kubernetes>=28.1.0->chromadb==0.5.18->-r ../requirements.txt (line 1)) (4.9.1)\r\n",
      "Requirement already satisfied: pyasn1>=0.1.3 in /home/theodora/PycharmProjects/HSLU_HS25_DSPRO1/.venv/lib/python3.12/site-packages (from rsa<5,>=3.1.4->google-auth>=1.0.1->kubernetes>=28.1.0->chromadb==0.5.18->-r ../requirements.txt (line 1)) (0.6.1)\r\n",
      "Requirement already satisfied: coloredlogs in /home/theodora/PycharmProjects/HSLU_HS25_DSPRO1/.venv/lib/python3.12/site-packages (from onnxruntime>=1.14.1->chromadb==0.5.18->-r ../requirements.txt (line 1)) (15.0.1)\r\n",
      "Requirement already satisfied: flatbuffers in /home/theodora/PycharmProjects/HSLU_HS25_DSPRO1/.venv/lib/python3.12/site-packages (from onnxruntime>=1.14.1->chromadb==0.5.18->-r ../requirements.txt (line 1)) (25.9.23)\r\n",
      "Requirement already satisfied: protobuf in /home/theodora/PycharmProjects/HSLU_HS25_DSPRO1/.venv/lib/python3.12/site-packages (from onnxruntime>=1.14.1->chromadb==0.5.18->-r ../requirements.txt (line 1)) (5.29.5)\r\n",
      "Requirement already satisfied: importlib-metadata<8.8.0,>=6.0 in /home/theodora/PycharmProjects/HSLU_HS25_DSPRO1/.venv/lib/python3.12/site-packages (from opentelemetry-api>=1.2.0->chromadb==0.5.18->-r ../requirements.txt (line 1)) (8.7.0)\r\n",
      "Requirement already satisfied: zipp>=3.20 in /home/theodora/PycharmProjects/HSLU_HS25_DSPRO1/.venv/lib/python3.12/site-packages (from importlib-metadata<8.8.0,>=6.0->opentelemetry-api>=1.2.0->chromadb==0.5.18->-r ../requirements.txt (line 1)) (3.23.0)\r\n",
      "Requirement already satisfied: googleapis-common-protos~=1.57 in /home/theodora/PycharmProjects/HSLU_HS25_DSPRO1/.venv/lib/python3.12/site-packages (from opentelemetry-exporter-otlp-proto-grpc>=1.2.0->chromadb==0.5.18->-r ../requirements.txt (line 1)) (1.70.0)\r\n",
      "Requirement already satisfied: opentelemetry-exporter-otlp-proto-common==1.37.0 in /home/theodora/PycharmProjects/HSLU_HS25_DSPRO1/.venv/lib/python3.12/site-packages (from opentelemetry-exporter-otlp-proto-grpc>=1.2.0->chromadb==0.5.18->-r ../requirements.txt (line 1)) (1.37.0)\r\n",
      "Requirement already satisfied: opentelemetry-proto==1.37.0 in /home/theodora/PycharmProjects/HSLU_HS25_DSPRO1/.venv/lib/python3.12/site-packages (from opentelemetry-exporter-otlp-proto-grpc>=1.2.0->chromadb==0.5.18->-r ../requirements.txt (line 1)) (1.37.0)\r\n",
      "Requirement already satisfied: opentelemetry-semantic-conventions==0.58b0 in /home/theodora/PycharmProjects/HSLU_HS25_DSPRO1/.venv/lib/python3.12/site-packages (from opentelemetry-sdk>=1.2.0->chromadb==0.5.18->-r ../requirements.txt (line 1)) (0.58b0)\r\n",
      "Requirement already satisfied: opentelemetry-instrumentation-asgi==0.58b0 in /home/theodora/PycharmProjects/HSLU_HS25_DSPRO1/.venv/lib/python3.12/site-packages (from opentelemetry-instrumentation-fastapi>=0.41b0->chromadb==0.5.18->-r ../requirements.txt (line 1)) (0.58b0)\r\n",
      "Requirement already satisfied: opentelemetry-instrumentation==0.58b0 in /home/theodora/PycharmProjects/HSLU_HS25_DSPRO1/.venv/lib/python3.12/site-packages (from opentelemetry-instrumentation-fastapi>=0.41b0->chromadb==0.5.18->-r ../requirements.txt (line 1)) (0.58b0)\r\n",
      "Requirement already satisfied: opentelemetry-util-http==0.58b0 in /home/theodora/PycharmProjects/HSLU_HS25_DSPRO1/.venv/lib/python3.12/site-packages (from opentelemetry-instrumentation-fastapi>=0.41b0->chromadb==0.5.18->-r ../requirements.txt (line 1)) (0.58b0)\r\n",
      "Requirement already satisfied: wrapt<2.0.0,>=1.0.0 in /home/theodora/PycharmProjects/HSLU_HS25_DSPRO1/.venv/lib/python3.12/site-packages (from opentelemetry-instrumentation==0.58b0->opentelemetry-instrumentation-fastapi>=0.41b0->chromadb==0.5.18->-r ../requirements.txt (line 1)) (1.17.3)\r\n",
      "Requirement already satisfied: asgiref~=3.0 in /home/theodora/PycharmProjects/HSLU_HS25_DSPRO1/.venv/lib/python3.12/site-packages (from opentelemetry-instrumentation-asgi==0.58b0->opentelemetry-instrumentation-fastapi>=0.41b0->chromadb==0.5.18->-r ../requirements.txt (line 1)) (3.10.0)\r\n",
      "Requirement already satisfied: monotonic>=1.5 in /home/theodora/PycharmProjects/HSLU_HS25_DSPRO1/.venv/lib/python3.12/site-packages (from posthog>=2.4.0->chromadb==0.5.18->-r ../requirements.txt (line 1)) (1.6)\r\n",
      "Requirement already satisfied: backoff>=1.10.0 in /home/theodora/PycharmProjects/HSLU_HS25_DSPRO1/.venv/lib/python3.12/site-packages (from posthog>=2.4.0->chromadb==0.5.18->-r ../requirements.txt (line 1)) (2.2.1)\r\n",
      "Requirement already satisfied: markdown-it-py>=2.2.0 in /usr/lib/python3/dist-packages (from rich>=10.11.0->chromadb==0.5.18->-r ../requirements.txt (line 1)) (3.0.0)\r\n",
      "Requirement already satisfied: pygments<3.0.0,>=2.13.0 in /usr/lib/python3/dist-packages (from rich>=10.11.0->chromadb==0.5.18->-r ../requirements.txt (line 1)) (2.17.2)\r\n",
      "Requirement already satisfied: mdurl~=0.1 in /usr/lib/python3/dist-packages (from markdown-it-py>=2.2.0->rich>=10.11.0->chromadb==0.5.18->-r ../requirements.txt (line 1)) (0.1.2)\r\n",
      "Requirement already satisfied: mpmath<1.4,>=1.1.0 in /home/theodora/PycharmProjects/HSLU_HS25_DSPRO1/.venv/lib/python3.12/site-packages (from sympy>=1.13.3->torch>=2.5.1->-r ../requirements.txt (line 11)) (1.3.0)\r\n",
      "Requirement already satisfied: click>=8.0.0 in /usr/lib/python3/dist-packages (from typer>=0.9.0->chromadb==0.5.18->-r ../requirements.txt (line 1)) (8.1.6)\r\n",
      "Requirement already satisfied: shellingham>=1.3.0 in /home/theodora/PycharmProjects/HSLU_HS25_DSPRO1/.venv/lib/python3.12/site-packages (from typer>=0.9.0->chromadb==0.5.18->-r ../requirements.txt (line 1)) (1.5.4)\r\n",
      "Requirement already satisfied: httptools>=0.6.3 in /home/theodora/PycharmProjects/HSLU_HS25_DSPRO1/.venv/lib/python3.12/site-packages (from uvicorn[standard]>=0.18.3->chromadb==0.5.18->-r ../requirements.txt (line 1)) (0.7.1)\r\n",
      "Requirement already satisfied: uvloop>=0.15.1 in /home/theodora/PycharmProjects/HSLU_HS25_DSPRO1/.venv/lib/python3.12/site-packages (from uvicorn[standard]>=0.18.3->chromadb==0.5.18->-r ../requirements.txt (line 1)) (0.21.0)\r\n",
      "Requirement already satisfied: watchfiles>=0.13 in /home/theodora/PycharmProjects/HSLU_HS25_DSPRO1/.venv/lib/python3.12/site-packages (from uvicorn[standard]>=0.18.3->chromadb==0.5.18->-r ../requirements.txt (line 1)) (1.1.1)\r\n",
      "Requirement already satisfied: websockets>=10.4 in /home/theodora/PycharmProjects/HSLU_HS25_DSPRO1/.venv/lib/python3.12/site-packages (from uvicorn[standard]>=0.18.3->chromadb==0.5.18->-r ../requirements.txt (line 1)) (15.0.1)\r\n",
      "Requirement already satisfied: humanfriendly>=9.1 in /home/theodora/PycharmProjects/HSLU_HS25_DSPRO1/.venv/lib/python3.12/site-packages (from coloredlogs->onnxruntime>=1.14.1->chromadb==0.5.18->-r ../requirements.txt (line 1)) (10.0)\r\n",
      "Requirement already satisfied: oauthlib>=3.0.0 in /usr/lib/python3/dist-packages (from requests-oauthlib->kubernetes>=28.1.0->chromadb==0.5.18->-r ../requirements.txt (line 1)) (3.2.2)\r\n",
      "Requirement already satisfied: joblib>=1.2.0 in /home/theodora/PycharmProjects/HSLU_HS25_DSPRO1/.venv/lib/python3.12/site-packages (from scikit-learn->sentence-transformers==3.2.1->-r ../requirements.txt (line 3)) (1.5.2)\r\n",
      "Requirement already satisfied: threadpoolctl>=3.1.0 in /home/theodora/PycharmProjects/HSLU_HS25_DSPRO1/.venv/lib/python3.12/site-packages (from scikit-learn->sentence-transformers==3.2.1->-r ../requirements.txt (line 3)) (3.6.0)\r\n"
     ]
    }
   ],
   "execution_count": 1
  },
  {
   "cell_type": "code",
   "id": "53cfd243-ce34-4783-bf3b-1c2add0da543",
   "metadata": {
    "ExecuteTime": {
     "end_time": "2025-10-26T15:13:00.819306Z",
     "start_time": "2025-10-26T15:12:53.200520Z"
    }
   },
   "source": [
    "import chromadb, pymupdf\n",
    "from sentence_transformers import SentenceTransformer\n",
    "\n",
    "print(\"Chroma version:\", chromadb.__version__)\n",
    "print(\"PyMuPDF version:\", pymupdf.__doc__)\n"
   ],
   "outputs": [
    {
     "name": "stderr",
     "output_type": "stream",
     "text": [
      "\u001B[0;93m2025-10-26 16:12:53.751846155 [W:onnxruntime:Default, device_discovery.cc:164 DiscoverDevicesForPlatform] GPU device discovery failed: device_discovery.cc:89 ReadFileContents Failed to open file: \"/sys/class/drm/card5/device/vendor\"\u001B[m\n",
      "/home/theodora/PycharmProjects/HSLU_HS25_DSPRO1/.venv/lib/python3.12/site-packages/sentence_transformers/cross_encoder/CrossEncoder.py:13: TqdmExperimentalWarning: Using `tqdm.autonotebook.tqdm` in notebook mode. Use `tqdm.tqdm` instead to force console mode (e.g. in jupyter console)\n",
      "  from tqdm.autonotebook import tqdm, trange\n"
     ]
    },
    {
     "name": "stdout",
     "output_type": "stream",
     "text": [
      "Chroma version: 0.5.18\n",
      "PyMuPDF version: PyMuPDF 1.24.10: Python bindings for the MuPDF 1.24.9 library (rebased implementation).\n",
      "Python 3.12 running on linux (64-bit).\n",
      "\n"
     ]
    }
   ],
   "execution_count": 2
  },
  {
   "cell_type": "code",
   "id": "c5a28944-73d3-4e1e-b418-25194cc4adae",
   "metadata": {
    "ExecuteTime": {
     "end_time": "2025-10-26T15:13:01.383209Z",
     "start_time": "2025-10-26T15:13:01.378004Z"
    }
   },
   "source": [],
   "outputs": [],
   "execution_count": null
  }
 ],
 "metadata": {
  "kernelspec": {
   "display_name": "Python 3 (ipykernel)",
   "language": "python",
   "name": "python3"
  },
  "language_info": {
   "codemirror_mode": {
    "name": "ipython",
    "version": 3
   },
   "file_extension": ".py",
   "mimetype": "text/x-python",
   "name": "python",
   "nbconvert_exporter": "python",
   "pygments_lexer": "ipython3",
   "version": "3.12.7"
  }
 },
 "nbformat": 4,
 "nbformat_minor": 5
}
