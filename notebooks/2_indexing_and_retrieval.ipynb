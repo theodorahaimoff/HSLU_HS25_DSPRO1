{
 "cells": [
  {
   "cell_type": "markdown",
   "id": "0a3c1d12-7aa9-4dfd-a889-a54fc6fc9635",
   "metadata": {},
   "source": [
    "# Indexing & Retrieval (JSON → ChromaDB)\n",
    "\n",
    "**Goal:**  \n",
    "Turn our per-article JSON files into a *persistent* ChromaDB index with semantic search.\n",
    "\n",
    "**What we do here:**\n",
    "1) Load all article-level JSONs (from `data/json/LAW/LAW_Art_*.json`)  \n",
    "2) Embed each article using `sentence-transformers`  \n",
    "3) Store vectors + rich metadata in **ChromaDB (PersistentClient)**  \n",
    "4) Test retrieval (KNN) and inspect the hits for correctness\n",
    "\n",
    "**Why this matters:**  \n",
    "A clean, persistent index lets us (a) query instantly, (b) cite exact articles, and (c) add new sources later without redoing everything.\n"
   ]
  },
  {
   "cell_type": "markdown",
   "id": "c04dd1be-6bc8-440c-86e9-5bd0ee4861ac",
   "metadata": {},
   "source": [
    "⚙️ Imports & Paths"
   ]
  },
  {
   "cell_type": "code",
   "id": "c9b30f09-aaae-4c12-b3ba-b8b82d7b2c59",
   "metadata": {
    "ExecuteTime": {
     "end_time": "2025-10-26T15:13:42.751157Z",
     "start_time": "2025-10-26T15:13:36.584644Z"
    }
   },
   "source": [
    "import os, json, hashlib\n",
    "from pathlib import Path\n",
    "\n",
    "import chromadb, logging\n",
    "from sentence_transformers import SentenceTransformer\n",
    "from tqdm import tqdm\n",
    "\n",
    "# Paths (keep consistent with Notebook 1)\n",
    "DATA_JSON = Path(\"../data/json\")\n",
    "CHROMA_DIR = Path(\"../store\")\n",
    "CHROMA_DIR.mkdir(parents=True, exist_ok=True)\n",
    "\n",
    "# Collection name\n",
    "CHROMA_COLLECTION = \"swiss_private_rental_law\"\n",
    "\n",
    "# Embedding model (fast + solid)\n",
    "EMBED_MODEL_NAME = \"sentence-transformers/all-MiniLM-L6-v2\"\n",
    "\n",
    "# Retrieval knobs\n",
    "TOP_K  = 5     # final results returned\n",
    "PRE_K  = 20    # prefetch for (optional) re-ranking\n",
    "\n",
    "logging.getLogger(\"chromadb\").setLevel(logging.ERROR)\n"
   ],
   "outputs": [
    {
     "name": "stderr",
     "output_type": "stream",
     "text": [
      "\u001B[0;93m2025-10-26 16:13:37.109133205 [W:onnxruntime:Default, device_discovery.cc:164 DiscoverDevicesForPlatform] GPU device discovery failed: device_discovery.cc:89 ReadFileContents Failed to open file: \"/sys/class/drm/card5/device/vendor\"\u001B[m\n",
      "/home/theodora/PycharmProjects/HSLU_HS25_DSPRO1/.venv/lib/python3.12/site-packages/sentence_transformers/cross_encoder/CrossEncoder.py:13: TqdmExperimentalWarning: Using `tqdm.autonotebook.tqdm` in notebook mode. Use `tqdm.tqdm` instead to force console mode (e.g. in jupyter console)\n",
      "  from tqdm.autonotebook import tqdm, trange\n"
     ]
    }
   ],
   "execution_count": 1
  },
  {
   "cell_type": "markdown",
   "id": "4cc38d09-8903-4c4c-be92-c2d7d84bb333",
   "metadata": {},
   "source": [
    "## Design Choices\n",
    "\n",
    "- **Per-article documents**: Each vector represents exactly one legal article (header + body).  \n",
    "- **Metadata**: We store `law`, `article`, `source`, `path`. This enables citations like **[OR Art. 269d – OR.pdf]**.  \n",
    "- **Persistent index**: We use `chromadb.PersistentClient` so the index survives kernel restarts.  \n",
    "- **Normalised embeddings**: Improves cosine-similarity behavior.\n"
   ]
  },
  {
   "cell_type": "markdown",
   "id": "15dbab39-a03c-4843-9125-5f7722a403d3",
   "metadata": {},
   "source": [
    "🧱 Chroma helpers"
   ]
  },
  {
   "cell_type": "code",
   "id": "9225f0da-a82e-486a-ad19-b6dda2b62e1e",
   "metadata": {
    "ExecuteTime": {
     "end_time": "2025-10-26T15:13:42.761997Z",
     "start_time": "2025-10-26T15:13:42.757900Z"
    }
   },
   "source": [
    "# Disable analytics / telemetry\n",
    "os.environ[\"CHROMA_TELEMETRY_ENABLED\"] = \"false\"\n",
    "os.environ[\"POSTHOG_DISABLED\"] = \"true\"\n",
    "\n",
    "def get_client():\n",
    "    return chromadb.PersistentClient(path=str(CHROMA_DIR))\n",
    "\n",
    "def get_collection(client=None, name=CHROMA_COLLECTION):\n",
    "    client = client or get_client()\n",
    "    try:\n",
    "        return client.get_collection(name)\n",
    "    except Exception:\n",
    "        return client.create_collection(name)\n",
    "\n",
    "def list_collections():\n",
    "    client = get_client()\n",
    "    return client.list_collections()\n",
    "\n",
    "def wipe_collection(name=CHROMA_COLLECTION):\n",
    "    client = get_client()\n",
    "    try:\n",
    "        client.delete_collection(name)\n",
    "        print(f\"Deleted collection: {name}\")\n",
    "    except Exception as e:\n",
    "        print(\"Delete failed:\", e)"
   ],
   "outputs": [],
   "execution_count": 2
  },
  {
   "cell_type": "markdown",
   "id": "bc8d4e59-4b5c-49df-8f03-92412b028864",
   "metadata": {},
   "source": [
    "🧠 Embedder init"
   ]
  },
  {
   "cell_type": "code",
   "id": "9c7d6153-d918-4890-b8a2-d1a22211c7ee",
   "metadata": {
    "ExecuteTime": {
     "end_time": "2025-10-26T15:13:42.811037Z",
     "start_time": "2025-10-26T15:13:42.808531Z"
    }
   },
   "source": [
    "_embedder = None\n",
    "\n",
    "def embedder():\n",
    "    global _embedder\n",
    "    if _embedder is None:\n",
    "        _embedder = SentenceTransformer(EMBED_MODEL_NAME)\n",
    "    return _embedder\n"
   ],
   "outputs": [],
   "execution_count": 3
  },
  {
   "cell_type": "markdown",
   "id": "7f7a0088-8cbd-4a59-af36-3e61f2de03ca",
   "metadata": {},
   "source": [
    "📥 Load JSON files"
   ]
  },
  {
   "cell_type": "code",
   "id": "85f69684-e9eb-4494-b7bd-fb742b23d1b1",
   "metadata": {
    "ExecuteTime": {
     "end_time": "2025-10-26T15:13:42.871951Z",
     "start_time": "2025-10-26T15:13:42.857335Z"
    }
   },
   "source": [
    "def load_article_jsons(root: Path = DATA_JSON):\n",
    "    files = sorted(root.rglob(\"*.json\"))  # recursively loads all JSONs under all subfolders\n",
    "    items = []\n",
    "    for fp in files:\n",
    "        try:\n",
    "            data = json.loads(fp.read_text(encoding=\"utf-8\"))\n",
    "            doc_text = f\"{data.get('header','')}\\n{data.get('text','')}\".strip()\n",
    "            if len(doc_text) < 50:\n",
    "                continue\n",
    "            items.append({\n",
    "                \"id\": hashlib.md5(fp.as_posix().encode(\"utf-8\")).hexdigest()[:16],\n",
    "                \"text\": doc_text,\n",
    "                \"meta\": {\n",
    "                    \"source\": data.get(\"source\"),\n",
    "                    \"law\": data.get(\"law\"),\n",
    "                    \"article\": data.get(\"article\"),\n",
    "                    \"path\": fp.as_posix()\n",
    "                }\n",
    "            })\n",
    "        except Exception as e:\n",
    "            print(\"Skip\", fp, \"→\", e)\n",
    "    return items\n",
    "\n",
    "articles = load_article_jsons()\n",
    "print(\"Found\", len(articles), \"articles.\")\n",
    "if articles:\n",
    "    print(\"Example:\", articles[0][\"meta\"])"
   ],
   "outputs": [
    {
     "name": "stdout",
     "output_type": "stream",
     "text": [
      "Found 118 articles.\n",
      "Example: {'source': 'OR.pdf', 'law': 'OR', 'article': '253', 'path': '../data/json/OR/OR_Art_253.json'}\n"
     ]
    }
   ],
   "execution_count": 4
  },
  {
   "cell_type": "markdown",
   "id": "8af13946-1722-4738-bda5-e360734f5a24",
   "metadata": {},
   "source": [
    "## Build / Update the Index\n",
    "\n",
    "We’ll:\n",
    "- batch-embed the articles,\n",
    "- add them to a persistent collection,\n",
    "- print counts to confirm.\n",
    "\n",
    "> Re-running is safe: Chroma deduplicates by IDs (we use md5 of file path).\n"
   ]
  },
  {
   "cell_type": "markdown",
   "id": "a7aeed46-feb4-41a9-a28d-ff861b98e08e",
   "metadata": {},
   "source": [
    "🏗️ Build/Update index"
   ]
  },
  {
   "cell_type": "code",
   "id": "e2a97295-d76c-4340-92ed-dbc414dd92d8",
   "metadata": {
    "ExecuteTime": {
     "end_time": "2025-10-26T15:13:45.890856Z",
     "start_time": "2025-10-26T15:13:42.912129Z"
    }
   },
   "source": [
    "def build_index(items, batch_size=64):\n",
    "    client = get_client()\n",
    "    col = get_collection(client)\n",
    "    print(\"Collection:\", CHROMA_COLLECTION, \"| existing docs:\", col.count())\n",
    "\n",
    "    ids, docs, metas = [], [], []\n",
    "    model = embedder()\n",
    "\n",
    "    for it in tqdm(items, desc=\"Indexing\"):\n",
    "        ids.append(it[\"id\"])\n",
    "        docs.append(it[\"text\"])\n",
    "        metas.append(it[\"meta\"])\n",
    "\n",
    "        if len(ids) >= batch_size:\n",
    "            embs = model.encode(docs, show_progress_bar=False, normalize_embeddings=True).tolist()\n",
    "            col.add(ids=ids, documents=docs, metadatas=metas, embeddings=embs)\n",
    "            ids, docs, metas = [], [], []\n",
    "\n",
    "    if ids:\n",
    "        embs = model.encode(docs, show_progress_bar=False, normalize_embeddings=True).tolist()\n",
    "        col.add(ids=ids, documents=docs, metadatas=metas, embeddings=embs)\n",
    "\n",
    "    print(\"Done. Chunks in collection:\", col.count())\n",
    "    return col\n",
    "\n",
    "collection = build_index(articles)\n"
   ],
   "outputs": [
    {
     "name": "stdout",
     "output_type": "stream",
     "text": [
      "Collection: swiss_private_rental_law | existing docs: 118\n"
     ]
    },
    {
     "name": "stderr",
     "output_type": "stream",
     "text": [
      "Indexing: 100%|██████████| 118/118 [00:00<00:00, 266.18it/s]"
     ]
    },
    {
     "name": "stdout",
     "output_type": "stream",
     "text": [
      "Done. Chunks in collection: 118\n"
     ]
    },
    {
     "name": "stderr",
     "output_type": "stream",
     "text": [
      "\n"
     ]
    }
   ],
   "execution_count": 5
  },
  {
   "cell_type": "markdown",
   "id": "5105b507-32d8-4511-9faf-b2ef2dea6a1f",
   "metadata": {},
   "source": [
    "## Retrieval Helpers\n",
    "\n",
    "- `retrieve(query, k, k_pre)`: embeds the query, does ANN search in Chroma, optionally re-ranks.  \n",
    "- `pack_context(...)`: formats retrieved docs for readability and later prompting.\n"
   ]
  },
  {
   "cell_type": "markdown",
   "id": "4a19590d-f0db-4f75-b844-c19ab5ffb363",
   "metadata": {},
   "source": [
    "🧰 Retrieve & (optional) Re-rank"
   ]
  },
  {
   "cell_type": "code",
   "id": "bab53a3a-02d1-4fe2-a7b0-51c361b9e60e",
   "metadata": {
    "ExecuteTime": {
     "end_time": "2025-10-26T15:13:46.067927Z",
     "start_time": "2025-10-26T15:13:46.061450Z"
    }
   },
   "source": [
    "def retrieve(query: str, k: int = TOP_K, k_pre: int = PRE_K, collection_name: str = CHROMA_COLLECTION):\n",
    "    col = get_collection()\n",
    "    q_emb = embedder().encode([query], normalize_embeddings=True).tolist()[0]\n",
    "    res = col.query(query_embeddings=[q_emb], n_results=k_pre, include=['documents','metadatas','distances'])\n",
    "\n",
    "    docs  = res.get('documents', [[]])[0]\n",
    "    metas = res.get('metadatas', [[]])[0]\n",
    "    dists = res.get('distances', [[]])[0]\n",
    "    prelim = list(zip(docs, metas, dists))\n",
    "\n",
    "    # Optional cross-encoder re-rank: uncomment if you installed transformers/torch\n",
    "    try:\n",
    "        from sentence_transformers import CrossEncoder\n",
    "        rnk = CrossEncoder(\"cross-encoder/ms-marco-MiniLM-L-6-v2\")\n",
    "        scores = rnk.predict([(query, d) for d,_,_ in prelim]).tolist()\n",
    "        prelim = [p for p,_ in sorted(zip(prelim, scores), key=lambda x: x[1], reverse=True)]\n",
    "    except Exception:\n",
    "        # Fallback: sort by distance asc (smaller = closer)\n",
    "        prelim = sorted(prelim, key=lambda x: x[2])\n",
    "\n",
    "    return prelim[:k]\n",
    "\n",
    "def pack_context(retrieved, max_chars=8000, per_source_cap=3):\n",
    "    ctx, total, seen = [], 0, {}\n",
    "    for doc, meta, dist in retrieved:\n",
    "        key = (meta.get(\"law\"), meta.get(\"article\"))\n",
    "        seen[key] = seen.get(key, 0) + 1\n",
    "        if seen[key] > per_source_cap:\n",
    "            continue\n",
    "        stamp = f\"[{meta.get('law','?')} Art.{meta.get('article','?')} – {meta.get('source')}]\"\n",
    "        block = f\"{stamp}\\n{doc.strip()}\\n\\n\"\n",
    "        if total + len(block) > max_chars:\n",
    "            break\n",
    "        ctx.append(block)\n",
    "        total += len(block)\n",
    "    return \"\".join(ctx)\n"
   ],
   "outputs": [],
   "execution_count": 6
  },
  {
   "cell_type": "markdown",
   "id": "2de213bc-8f8f-4547-95a3-ef9f132513d4",
   "metadata": {},
   "source": [
    "## Quick Tests\n",
    "\n",
    "We try a few canonical questions to verify that:\n",
    "- the right laws show up (OR / VMWG / StGB),\n",
    "- the retrieved articles look relevant,\n",
    "- metadata is present for citations.\n"
   ]
  },
  {
   "cell_type": "code",
   "id": "3845f796-8145-40f4-94f6-f56ffe703e2e",
   "metadata": {
    "ExecuteTime": {
     "end_time": "2025-10-26T15:13:49.238823Z",
     "start_time": "2025-10-26T15:13:46.155985Z"
    }
   },
   "source": [
    "queries = [\n",
    "    \"Wie fechte ich eine Mietzinserhöhung an? Welches Formular ist nötig?\",\n",
    "    \"Welche Rechte habe ich bei Mängeln in der Wohnung?\",\n",
    "    \"Ist eine Kündigung während eines laufenden Schlichtungsverfahrens zulässig?\",\n",
    "]\n",
    "\n",
    "for q in queries:\n",
    "    print(\"Q:\", q)\n",
    "    hits = retrieve(q, k=5)\n",
    "    for i, (doc, meta, dist) in enumerate(hits, 1):\n",
    "        print(f\"  {i}. [{meta.get('law')} Art.{meta.get('article')}] {meta.get('source')}  dist={dist:.3f}\")\n",
    "    print()\n"
   ],
   "outputs": [
    {
     "name": "stdout",
     "output_type": "stream",
     "text": [
      "Q: Wie fechte ich eine Mietzinserhöhung an? Welches Formular ist nötig?\n",
      "  1. [OR Art.269d] OR.pdf  dist=0.895\n",
      "  2. [VMWG Art.19] VMWG.pdf  dist=0.834\n",
      "  3. [OR Art.270b] OR.pdf  dist=0.942\n",
      "  4. [OR Art.270c] OR.pdf  dist=0.700\n",
      "  5. [VMWG Art.17] VMWG.pdf  dist=1.082\n",
      "\n",
      "Q: Welche Rechte habe ich bei Mängeln in der Wohnung?\n",
      "  1. [OR Art.258] OR.pdf  dist=1.235\n",
      "  2. [OR Art.259a] OR.pdf  dist=1.374\n",
      "  3. [OR Art.267a] OR.pdf  dist=1.191\n",
      "  4. [OR Art.259b] OR.pdf  dist=1.034\n",
      "  5. [OR Art.259] OR.pdf  dist=0.930\n",
      "\n",
      "Q: Ist eine Kündigung während eines laufenden Schlichtungsverfahrens zulässig?\n",
      "  1. [OR Art.270e] OR.pdf  dist=1.212\n",
      "  2. [OR Art.274g] OR.pdf  dist=1.238\n",
      "  3. [OR Art.271a] OR.pdf  dist=1.074\n",
      "  4. [OR Art.274e] OR.pdf  dist=0.916\n",
      "  5. [VMWG Art.21] VMWG.pdf  dist=1.202\n",
      "\n"
     ]
    }
   ],
   "execution_count": 7
  },
  {
   "cell_type": "markdown",
   "id": "034b6b11-3c70-4553-9e05-05c37ba29071",
   "metadata": {},
   "source": [
    "👀  Inspect one context block"
   ]
  },
  {
   "cell_type": "code",
   "id": "5b833ca7-67bf-4187-8cbb-fd3b562035c5",
   "metadata": {
    "ExecuteTime": {
     "end_time": "2025-10-26T15:13:50.252616Z",
     "start_time": "2025-10-26T15:13:49.296537Z"
    }
   },
   "source": [
    "sample_q = \"Wie fechte ich eine Mietzinserhöhung an? Welches Formular ist nötig?\"\n",
    "hits = retrieve(sample_q, k=6)\n",
    "ctx = pack_context(hits, max_chars=3000)\n",
    "print(ctx[:1500])\n"
   ],
   "outputs": [
    {
     "name": "stdout",
     "output_type": "stream",
     "text": [
      "[OR Art.269d – OR.pdf]\n",
      "Art. 269d, Mietzinserhöhungen und andere einseitige Vertragsänderungen durch den Vermieter\n",
      "1 Der Vermieter kann den Mietzins jederzeit auf den nächstmöglichen Kündigungstermin erhöhen.\n",
      "Er muss dem Mieter die Mietzinserhöhung mindestens zehn Tage vor Beginn der Kündigungsfrist\n",
      "auf einem vom Kanton genehmigten Formular mitteilen und begründen.\n",
      "2 Die Mietzinserhöhung ist nichtig, wenn der Vermieter:\n",
      "a. sie nicht mit dem vorgeschriebenen Formular mitteilt;\n",
      "b. sie nicht begründet;\n",
      "c. mit der Mitteilung die Kündigung androht oder ausspricht.\n",
      "3 Die Absätze 1 und 2 gelten auch, wenn der Vermieter beabsichtigt, sonstwie den Mietvertrag\n",
      "einseitig zu Lasten des Mieters zu ändern, namentlich seine bisherigen Leistungen zu vermindern\n",
      "oder neue Nebenkosten einzuführen.\n",
      "\n",
      "[VMWG Art.19 – VMWG.pdf]\n",
      "Art. 19 Formular zur Mitteilung von Mietzinserhöhungen und anderen einseitigen\n",
      "Vertragsänderungen\n",
      "(Art. 269d OR)\n",
      "1 Das Formular für die Mitteilung von Mietzinserhöhungen und anderen einseitigen\n",
      "Vertragsänderungen\n",
      "im Sinne von Artikel 269d des Obligationenrechts muss enthalten:\n",
      "a. Für Mietzinserhöhungen:\n",
      "1. den bisherigen Mietzins und die bisherige Belastung des Mieters für Nebenkosten;\n",
      "2. den neuen Mietzins und die neue Belastung des Mieters für Nebenkosten;\n",
      "3. den Zeitpunkt, auf den die Erhöhung in Kraft tritt;\n",
      "4. die klare Begründung der Erhöhung. Werden mehrere Erhöhungsgründe geltend gemacht,\n",
      "so sind diese je in Einzelbeträgen auszuweisen.\n",
      "b. Für andere einseitige Vertrags\n"
     ]
    }
   ],
   "execution_count": 8
  },
  {
   "cell_type": "markdown",
   "id": "56ddfeee-88a9-4a68-b7e0-78f5cdd2a2dc",
   "metadata": {},
   "source": [
    "# ✅ Summary\n",
    "\n",
    "- We built a **persistent ChromaDB index** from per-article JSONs.  \n",
    "- Retrieval returns focused legal articles with clean metadata for citations.  \n",
    "- Optional cross-encoder rerank is wired (enable if installed).\n",
    "\n",
    "**Next:** `3_Answering_and_Evaluation.ipynb`  \n",
    "We will:\n",
    "- assemble prompts,\n",
    "- answer via **Ollama HTTP** or **OpenAI API**,\n",
    "- enforce a strict output format (1-sentence answer, steps, forms, references),\n",
    "- run a small evaluation set (sanity checks, error cases).\n"
   ]
  },
  {
   "cell_type": "code",
   "id": "2bb11c63-8ad2-47c2-a264-d8ef9dad907c",
   "metadata": {
    "ExecuteTime": {
     "end_time": "2025-10-26T15:13:50.352958Z",
     "start_time": "2025-10-26T15:13:50.350999Z"
    }
   },
   "source": [],
   "outputs": [],
   "execution_count": null
  },
  {
   "cell_type": "code",
   "id": "76f7990b-6d6c-4cb1-8636-bcde2aa7b793",
   "metadata": {
    "ExecuteTime": {
     "end_time": "2025-10-26T15:13:50.432978Z",
     "start_time": "2025-10-26T15:13:50.431352Z"
    }
   },
   "source": [],
   "outputs": [],
   "execution_count": null
  }
 ],
 "metadata": {
  "kernelspec": {
   "display_name": "Python 3 (ipykernel)",
   "language": "python",
   "name": "python3"
  },
  "language_info": {
   "codemirror_mode": {
    "name": "ipython",
    "version": 3
   },
   "file_extension": ".py",
   "mimetype": "text/x-python",
   "name": "python",
   "nbconvert_exporter": "python",
   "pygments_lexer": "ipython3",
   "version": "3.12.7"
  }
 },
 "nbformat": 4,
 "nbformat_minor": 5
}
