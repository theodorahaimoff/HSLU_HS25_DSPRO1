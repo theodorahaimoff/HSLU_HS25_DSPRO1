{
 "cells": [
  {
   "cell_type": "code",
   "execution_count": 1,
   "id": "806f012d-ba00-499c-81e8-18fd84235256",
   "metadata": {},
   "outputs": [
    {
     "name": "stdout",
     "output_type": "stream",
     "text": [
      "Requirement already satisfied: pip in /opt/anaconda3/lib/python3.12/site-packages (25.2)\n",
      "Requirement already satisfied: chromadb==0.5.5 in /opt/anaconda3/lib/python3.12/site-packages (from -r requirements.txt (line 1)) (0.5.5)\n",
      "Requirement already satisfied: pymupdf==1.24.9 in /opt/anaconda3/lib/python3.12/site-packages (from -r requirements.txt (line 2)) (1.24.9)\n",
      "Requirement already satisfied: sentence-transformers==3.0.1 in /opt/anaconda3/lib/python3.12/site-packages (from -r requirements.txt (line 3)) (3.0.1)\n",
      "Requirement already satisfied: langchain-text-splitters==0.2.2 in /opt/anaconda3/lib/python3.12/site-packages (from -r requirements.txt (line 4)) (0.2.2)\n",
      "Requirement already satisfied: tqdm==4.66.4 in /opt/anaconda3/lib/python3.12/site-packages (from -r requirements.txt (line 5)) (4.66.4)\n",
      "Requirement already satisfied: requests>=2.31.0 in /opt/anaconda3/lib/python3.12/site-packages (from -r requirements.txt (line 6)) (2.32.3)\n",
      "Collecting python-dotenv>=1.0.1 (from -r requirements.txt (line 7))\n",
      "  Using cached python_dotenv-1.1.1-py3-none-any.whl.metadata (24 kB)\n",
      "Requirement already satisfied: transformers>=4.43.0 in /opt/anaconda3/lib/python3.12/site-packages (from -r requirements.txt (line 10)) (4.57.1)\n",
      "Requirement already satisfied: torch>=2.2.0 in /opt/anaconda3/lib/python3.12/site-packages (from -r requirements.txt (line 11)) (2.5.1)\n",
      "Requirement already satisfied: build>=1.0.3 in /opt/anaconda3/lib/python3.12/site-packages (from chromadb==0.5.5->-r requirements.txt (line 1)) (1.3.0)\n",
      "Requirement already satisfied: pydantic>=1.9 in /opt/anaconda3/lib/python3.12/site-packages (from chromadb==0.5.5->-r requirements.txt (line 1)) (2.8.2)\n",
      "Requirement already satisfied: chroma-hnswlib==0.7.6 in /opt/anaconda3/lib/python3.12/site-packages (from chromadb==0.5.5->-r requirements.txt (line 1)) (0.7.6)\n",
      "Requirement already satisfied: fastapi>=0.95.2 in /opt/anaconda3/lib/python3.12/site-packages (from chromadb==0.5.5->-r requirements.txt (line 1)) (0.119.1)\n",
      "Requirement already satisfied: uvicorn>=0.18.3 in /opt/anaconda3/lib/python3.12/site-packages (from uvicorn[standard]>=0.18.3->chromadb==0.5.5->-r requirements.txt (line 1)) (0.35.0)\n",
      "Requirement already satisfied: numpy<2.0.0,>=1.22.5 in /opt/anaconda3/lib/python3.12/site-packages (from chromadb==0.5.5->-r requirements.txt (line 1)) (1.26.4)\n",
      "Requirement already satisfied: posthog>=2.4.0 in /opt/anaconda3/lib/python3.12/site-packages (from chromadb==0.5.5->-r requirements.txt (line 1)) (5.4.0)\n",
      "Requirement already satisfied: typing-extensions>=4.5.0 in /opt/anaconda3/lib/python3.12/site-packages (from chromadb==0.5.5->-r requirements.txt (line 1)) (4.11.0)\n",
      "Requirement already satisfied: onnxruntime>=1.14.1 in /opt/anaconda3/lib/python3.12/site-packages (from chromadb==0.5.5->-r requirements.txt (line 1)) (1.22.1)\n",
      "Requirement already satisfied: opentelemetry-api>=1.2.0 in /opt/anaconda3/lib/python3.12/site-packages (from chromadb==0.5.5->-r requirements.txt (line 1)) (1.36.0)\n",
      "Requirement already satisfied: opentelemetry-exporter-otlp-proto-grpc>=1.2.0 in /opt/anaconda3/lib/python3.12/site-packages (from chromadb==0.5.5->-r requirements.txt (line 1)) (1.36.0)\n",
      "Requirement already satisfied: opentelemetry-instrumentation-fastapi>=0.41b0 in /opt/anaconda3/lib/python3.12/site-packages (from chromadb==0.5.5->-r requirements.txt (line 1)) (0.57b0)\n",
      "Requirement already satisfied: opentelemetry-sdk>=1.2.0 in /opt/anaconda3/lib/python3.12/site-packages (from chromadb==0.5.5->-r requirements.txt (line 1)) (1.36.0)\n",
      "Requirement already satisfied: tokenizers>=0.13.2 in /opt/anaconda3/lib/python3.12/site-packages (from chromadb==0.5.5->-r requirements.txt (line 1)) (0.22.1)\n",
      "Requirement already satisfied: pypika>=0.48.9 in /opt/anaconda3/lib/python3.12/site-packages (from chromadb==0.5.5->-r requirements.txt (line 1)) (0.48.9)\n",
      "Requirement already satisfied: overrides>=7.3.1 in /opt/anaconda3/lib/python3.12/site-packages (from chromadb==0.5.5->-r requirements.txt (line 1)) (7.4.0)\n",
      "Requirement already satisfied: importlib-resources in /opt/anaconda3/lib/python3.12/site-packages (from chromadb==0.5.5->-r requirements.txt (line 1)) (6.5.2)\n",
      "Requirement already satisfied: grpcio>=1.58.0 in /opt/anaconda3/lib/python3.12/site-packages (from chromadb==0.5.5->-r requirements.txt (line 1)) (1.74.0)\n",
      "Requirement already satisfied: bcrypt>=4.0.1 in /opt/anaconda3/lib/python3.12/site-packages (from chromadb==0.5.5->-r requirements.txt (line 1)) (4.3.0)\n",
      "Requirement already satisfied: typer>=0.9.0 in /opt/anaconda3/lib/python3.12/site-packages (from chromadb==0.5.5->-r requirements.txt (line 1)) (0.16.0)\n",
      "Requirement already satisfied: kubernetes>=28.1.0 in /opt/anaconda3/lib/python3.12/site-packages (from chromadb==0.5.5->-r requirements.txt (line 1)) (33.1.0)\n",
      "Requirement already satisfied: tenacity>=8.2.3 in /opt/anaconda3/lib/python3.12/site-packages (from chromadb==0.5.5->-r requirements.txt (line 1)) (8.2.3)\n",
      "Requirement already satisfied: PyYAML>=6.0.0 in /opt/anaconda3/lib/python3.12/site-packages (from chromadb==0.5.5->-r requirements.txt (line 1)) (6.0.1)\n",
      "Requirement already satisfied: mmh3>=4.0.1 in /opt/anaconda3/lib/python3.12/site-packages (from chromadb==0.5.5->-r requirements.txt (line 1)) (5.2.0)\n",
      "Requirement already satisfied: orjson>=3.9.12 in /opt/anaconda3/lib/python3.12/site-packages (from chromadb==0.5.5->-r requirements.txt (line 1)) (3.11.2)\n",
      "Requirement already satisfied: httpx>=0.27.0 in /opt/anaconda3/lib/python3.12/site-packages (from chromadb==0.5.5->-r requirements.txt (line 1)) (0.27.0)\n",
      "Requirement already satisfied: PyMuPDFb==1.24.9 in /opt/anaconda3/lib/python3.12/site-packages (from pymupdf==1.24.9->-r requirements.txt (line 2)) (1.24.9)\n",
      "Requirement already satisfied: scikit-learn in /opt/anaconda3/lib/python3.12/site-packages (from sentence-transformers==3.0.1->-r requirements.txt (line 3)) (1.5.1)\n",
      "Requirement already satisfied: scipy in /opt/anaconda3/lib/python3.12/site-packages (from sentence-transformers==3.0.1->-r requirements.txt (line 3)) (1.13.1)\n",
      "Requirement already satisfied: huggingface-hub>=0.15.1 in /opt/anaconda3/lib/python3.12/site-packages (from sentence-transformers==3.0.1->-r requirements.txt (line 3)) (0.34.4)\n",
      "Requirement already satisfied: Pillow in /opt/anaconda3/lib/python3.12/site-packages (from sentence-transformers==3.0.1->-r requirements.txt (line 3)) (10.4.0)\n",
      "Requirement already satisfied: langchain-core<0.3.0,>=0.2.10 in /opt/anaconda3/lib/python3.12/site-packages (from langchain-text-splitters==0.2.2->-r requirements.txt (line 4)) (0.2.43)\n",
      "Requirement already satisfied: filelock in /opt/anaconda3/lib/python3.12/site-packages (from transformers>=4.43.0->-r requirements.txt (line 10)) (3.13.1)\n",
      "Requirement already satisfied: packaging>=20.0 in /opt/anaconda3/lib/python3.12/site-packages (from transformers>=4.43.0->-r requirements.txt (line 10)) (24.1)\n",
      "Requirement already satisfied: regex!=2019.12.17 in /opt/anaconda3/lib/python3.12/site-packages (from transformers>=4.43.0->-r requirements.txt (line 10)) (2024.9.11)\n",
      "Requirement already satisfied: safetensors>=0.4.3 in /opt/anaconda3/lib/python3.12/site-packages (from transformers>=4.43.0->-r requirements.txt (line 10)) (0.6.2)\n",
      "Requirement already satisfied: fsspec>=2023.5.0 in /opt/anaconda3/lib/python3.12/site-packages (from huggingface-hub>=0.15.1->sentence-transformers==3.0.1->-r requirements.txt (line 3)) (2024.6.1)\n",
      "Requirement already satisfied: hf-xet<2.0.0,>=1.1.3 in /opt/anaconda3/lib/python3.12/site-packages (from huggingface-hub>=0.15.1->sentence-transformers==3.0.1->-r requirements.txt (line 3)) (1.1.7)\n",
      "Requirement already satisfied: jsonpatch<2.0,>=1.33 in /opt/anaconda3/lib/python3.12/site-packages (from langchain-core<0.3.0,>=0.2.10->langchain-text-splitters==0.2.2->-r requirements.txt (line 4)) (1.33)\n",
      "Requirement already satisfied: langsmith<0.2.0,>=0.1.112 in /opt/anaconda3/lib/python3.12/site-packages (from langchain-core<0.3.0,>=0.2.10->langchain-text-splitters==0.2.2->-r requirements.txt (line 4)) (0.1.147)\n",
      "Requirement already satisfied: jsonpointer>=1.9 in /opt/anaconda3/lib/python3.12/site-packages (from jsonpatch<2.0,>=1.33->langchain-core<0.3.0,>=0.2.10->langchain-text-splitters==0.2.2->-r requirements.txt (line 4)) (2.1)\n",
      "Requirement already satisfied: requests-toolbelt<2.0.0,>=1.0.0 in /opt/anaconda3/lib/python3.12/site-packages (from langsmith<0.2.0,>=0.1.112->langchain-core<0.3.0,>=0.2.10->langchain-text-splitters==0.2.2->-r requirements.txt (line 4)) (1.0.0)\n",
      "Requirement already satisfied: charset-normalizer<4,>=2 in /opt/anaconda3/lib/python3.12/site-packages (from requests>=2.31.0->-r requirements.txt (line 6)) (3.3.2)\n",
      "Requirement already satisfied: idna<4,>=2.5 in /opt/anaconda3/lib/python3.12/site-packages (from requests>=2.31.0->-r requirements.txt (line 6)) (3.7)\n",
      "Requirement already satisfied: urllib3<3,>=1.21.1 in /opt/anaconda3/lib/python3.12/site-packages (from requests>=2.31.0->-r requirements.txt (line 6)) (2.2.3)\n",
      "Requirement already satisfied: certifi>=2017.4.17 in /opt/anaconda3/lib/python3.12/site-packages (from requests>=2.31.0->-r requirements.txt (line 6)) (2024.8.30)\n",
      "Requirement already satisfied: anyio in /opt/anaconda3/lib/python3.12/site-packages (from httpx>=0.27.0->chromadb==0.5.5->-r requirements.txt (line 1)) (4.2.0)\n",
      "Requirement already satisfied: httpcore==1.* in /opt/anaconda3/lib/python3.12/site-packages (from httpx>=0.27.0->chromadb==0.5.5->-r requirements.txt (line 1)) (1.0.2)\n",
      "Requirement already satisfied: sniffio in /opt/anaconda3/lib/python3.12/site-packages (from httpx>=0.27.0->chromadb==0.5.5->-r requirements.txt (line 1)) (1.3.0)\n",
      "Requirement already satisfied: h11<0.15,>=0.13 in /opt/anaconda3/lib/python3.12/site-packages (from httpcore==1.*->httpx>=0.27.0->chromadb==0.5.5->-r requirements.txt (line 1)) (0.14.0)\n",
      "Requirement already satisfied: annotated-types>=0.4.0 in /opt/anaconda3/lib/python3.12/site-packages (from pydantic>=1.9->chromadb==0.5.5->-r requirements.txt (line 1)) (0.6.0)\n",
      "Requirement already satisfied: pydantic-core==2.20.1 in /opt/anaconda3/lib/python3.12/site-packages (from pydantic>=1.9->chromadb==0.5.5->-r requirements.txt (line 1)) (2.20.1)\n",
      "Requirement already satisfied: networkx in /opt/anaconda3/lib/python3.12/site-packages (from torch>=2.2.0->-r requirements.txt (line 11)) (3.3)\n",
      "Requirement already satisfied: jinja2 in /opt/anaconda3/lib/python3.12/site-packages (from torch>=2.2.0->-r requirements.txt (line 11)) (3.1.4)\n",
      "Requirement already satisfied: setuptools in /opt/anaconda3/lib/python3.12/site-packages (from torch>=2.2.0->-r requirements.txt (line 11)) (75.1.0)\n",
      "Requirement already satisfied: sympy==1.13.1 in /opt/anaconda3/lib/python3.12/site-packages (from torch>=2.2.0->-r requirements.txt (line 11)) (1.13.1)\n",
      "Requirement already satisfied: mpmath<1.4,>=1.1.0 in /opt/anaconda3/lib/python3.12/site-packages (from sympy==1.13.1->torch>=2.2.0->-r requirements.txt (line 11)) (1.3.0)\n",
      "Requirement already satisfied: pyproject_hooks in /opt/anaconda3/lib/python3.12/site-packages (from build>=1.0.3->chromadb==0.5.5->-r requirements.txt (line 1)) (1.2.0)\n",
      "Requirement already satisfied: starlette<0.49.0,>=0.40.0 in /opt/anaconda3/lib/python3.12/site-packages (from fastapi>=0.95.2->chromadb==0.5.5->-r requirements.txt (line 1)) (0.48.0)\n",
      "Requirement already satisfied: six>=1.9.0 in /opt/anaconda3/lib/python3.12/site-packages (from kubernetes>=28.1.0->chromadb==0.5.5->-r requirements.txt (line 1)) (1.16.0)\n",
      "Requirement already satisfied: python-dateutil>=2.5.3 in /opt/anaconda3/lib/python3.12/site-packages (from kubernetes>=28.1.0->chromadb==0.5.5->-r requirements.txt (line 1)) (2.9.0.post0)\n",
      "Requirement already satisfied: google-auth>=1.0.1 in /opt/anaconda3/lib/python3.12/site-packages (from kubernetes>=28.1.0->chromadb==0.5.5->-r requirements.txt (line 1)) (2.40.3)\n",
      "Requirement already satisfied: websocket-client!=0.40.0,!=0.41.*,!=0.42.*,>=0.32.0 in /opt/anaconda3/lib/python3.12/site-packages (from kubernetes>=28.1.0->chromadb==0.5.5->-r requirements.txt (line 1)) (1.8.0)\n",
      "Requirement already satisfied: requests-oauthlib in /opt/anaconda3/lib/python3.12/site-packages (from kubernetes>=28.1.0->chromadb==0.5.5->-r requirements.txt (line 1)) (2.0.0)\n",
      "Requirement already satisfied: oauthlib>=3.2.2 in /opt/anaconda3/lib/python3.12/site-packages (from kubernetes>=28.1.0->chromadb==0.5.5->-r requirements.txt (line 1)) (3.3.1)\n",
      "Requirement already satisfied: durationpy>=0.7 in /opt/anaconda3/lib/python3.12/site-packages (from kubernetes>=28.1.0->chromadb==0.5.5->-r requirements.txt (line 1)) (0.10)\n",
      "Requirement already satisfied: cachetools<6.0,>=2.0.0 in /opt/anaconda3/lib/python3.12/site-packages (from google-auth>=1.0.1->kubernetes>=28.1.0->chromadb==0.5.5->-r requirements.txt (line 1)) (5.3.3)\n",
      "Requirement already satisfied: pyasn1-modules>=0.2.1 in /opt/anaconda3/lib/python3.12/site-packages (from google-auth>=1.0.1->kubernetes>=28.1.0->chromadb==0.5.5->-r requirements.txt (line 1)) (0.2.8)\n",
      "Requirement already satisfied: rsa<5,>=3.1.4 in /opt/anaconda3/lib/python3.12/site-packages (from google-auth>=1.0.1->kubernetes>=28.1.0->chromadb==0.5.5->-r requirements.txt (line 1)) (4.9.1)\n",
      "Requirement already satisfied: pyasn1>=0.1.3 in /opt/anaconda3/lib/python3.12/site-packages (from rsa<5,>=3.1.4->google-auth>=1.0.1->kubernetes>=28.1.0->chromadb==0.5.5->-r requirements.txt (line 1)) (0.4.8)\n",
      "Requirement already satisfied: coloredlogs in /opt/anaconda3/lib/python3.12/site-packages (from onnxruntime>=1.14.1->chromadb==0.5.5->-r requirements.txt (line 1)) (15.0.1)\n",
      "Requirement already satisfied: flatbuffers in /opt/anaconda3/lib/python3.12/site-packages (from onnxruntime>=1.14.1->chromadb==0.5.5->-r requirements.txt (line 1)) (25.2.10)\n",
      "Requirement already satisfied: protobuf in /opt/anaconda3/lib/python3.12/site-packages (from onnxruntime>=1.14.1->chromadb==0.5.5->-r requirements.txt (line 1)) (5.29.5)\n",
      "Requirement already satisfied: importlib-metadata<8.8.0,>=6.0 in /opt/anaconda3/lib/python3.12/site-packages (from opentelemetry-api>=1.2.0->chromadb==0.5.5->-r requirements.txt (line 1)) (7.0.1)\n",
      "Requirement already satisfied: zipp>=0.5 in /opt/anaconda3/lib/python3.12/site-packages (from importlib-metadata<8.8.0,>=6.0->opentelemetry-api>=1.2.0->chromadb==0.5.5->-r requirements.txt (line 1)) (3.17.0)\n",
      "Requirement already satisfied: googleapis-common-protos~=1.57 in /opt/anaconda3/lib/python3.12/site-packages (from opentelemetry-exporter-otlp-proto-grpc>=1.2.0->chromadb==0.5.5->-r requirements.txt (line 1)) (1.70.0)\n",
      "Requirement already satisfied: opentelemetry-exporter-otlp-proto-common==1.36.0 in /opt/anaconda3/lib/python3.12/site-packages (from opentelemetry-exporter-otlp-proto-grpc>=1.2.0->chromadb==0.5.5->-r requirements.txt (line 1)) (1.36.0)\n",
      "Requirement already satisfied: opentelemetry-proto==1.36.0 in /opt/anaconda3/lib/python3.12/site-packages (from opentelemetry-exporter-otlp-proto-grpc>=1.2.0->chromadb==0.5.5->-r requirements.txt (line 1)) (1.36.0)\n",
      "Requirement already satisfied: opentelemetry-semantic-conventions==0.57b0 in /opt/anaconda3/lib/python3.12/site-packages (from opentelemetry-sdk>=1.2.0->chromadb==0.5.5->-r requirements.txt (line 1)) (0.57b0)\n",
      "Requirement already satisfied: opentelemetry-instrumentation-asgi==0.57b0 in /opt/anaconda3/lib/python3.12/site-packages (from opentelemetry-instrumentation-fastapi>=0.41b0->chromadb==0.5.5->-r requirements.txt (line 1)) (0.57b0)\n",
      "Requirement already satisfied: opentelemetry-instrumentation==0.57b0 in /opt/anaconda3/lib/python3.12/site-packages (from opentelemetry-instrumentation-fastapi>=0.41b0->chromadb==0.5.5->-r requirements.txt (line 1)) (0.57b0)\n",
      "Requirement already satisfied: opentelemetry-util-http==0.57b0 in /opt/anaconda3/lib/python3.12/site-packages (from opentelemetry-instrumentation-fastapi>=0.41b0->chromadb==0.5.5->-r requirements.txt (line 1)) (0.57b0)\n",
      "Requirement already satisfied: wrapt<2.0.0,>=1.0.0 in /opt/anaconda3/lib/python3.12/site-packages (from opentelemetry-instrumentation==0.57b0->opentelemetry-instrumentation-fastapi>=0.41b0->chromadb==0.5.5->-r requirements.txt (line 1)) (1.14.1)\n",
      "Requirement already satisfied: asgiref~=3.0 in /opt/anaconda3/lib/python3.12/site-packages (from opentelemetry-instrumentation-asgi==0.57b0->opentelemetry-instrumentation-fastapi>=0.41b0->chromadb==0.5.5->-r requirements.txt (line 1)) (3.10.0)\n",
      "Requirement already satisfied: backoff>=1.10.0 in /opt/anaconda3/lib/python3.12/site-packages (from posthog>=2.4.0->chromadb==0.5.5->-r requirements.txt (line 1)) (2.2.1)\n",
      "Requirement already satisfied: distro>=1.5.0 in /opt/anaconda3/lib/python3.12/site-packages (from posthog>=2.4.0->chromadb==0.5.5->-r requirements.txt (line 1)) (1.9.0)\n",
      "Requirement already satisfied: click>=8.0.0 in /opt/anaconda3/lib/python3.12/site-packages (from typer>=0.9.0->chromadb==0.5.5->-r requirements.txt (line 1)) (8.1.7)\n",
      "Requirement already satisfied: shellingham>=1.3.0 in /opt/anaconda3/lib/python3.12/site-packages (from typer>=0.9.0->chromadb==0.5.5->-r requirements.txt (line 1)) (1.5.4)\n",
      "Requirement already satisfied: rich>=10.11.0 in /opt/anaconda3/lib/python3.12/site-packages (from typer>=0.9.0->chromadb==0.5.5->-r requirements.txt (line 1)) (13.7.1)\n",
      "Requirement already satisfied: markdown-it-py>=2.2.0 in /opt/anaconda3/lib/python3.12/site-packages (from rich>=10.11.0->typer>=0.9.0->chromadb==0.5.5->-r requirements.txt (line 1)) (2.2.0)\n",
      "Requirement already satisfied: pygments<3.0.0,>=2.13.0 in /opt/anaconda3/lib/python3.12/site-packages (from rich>=10.11.0->typer>=0.9.0->chromadb==0.5.5->-r requirements.txt (line 1)) (2.15.1)\n",
      "Requirement already satisfied: mdurl~=0.1 in /opt/anaconda3/lib/python3.12/site-packages (from markdown-it-py>=2.2.0->rich>=10.11.0->typer>=0.9.0->chromadb==0.5.5->-r requirements.txt (line 1)) (0.1.0)\n",
      "Requirement already satisfied: httptools>=0.6.3 in /opt/anaconda3/lib/python3.12/site-packages (from uvicorn[standard]>=0.18.3->chromadb==0.5.5->-r requirements.txt (line 1)) (0.6.4)\n",
      "Requirement already satisfied: uvloop>=0.15.1 in /opt/anaconda3/lib/python3.12/site-packages (from uvicorn[standard]>=0.18.3->chromadb==0.5.5->-r requirements.txt (line 1)) (0.21.0)\n",
      "Requirement already satisfied: watchfiles>=0.13 in /opt/anaconda3/lib/python3.12/site-packages (from uvicorn[standard]>=0.18.3->chromadb==0.5.5->-r requirements.txt (line 1)) (1.1.0)\n",
      "Requirement already satisfied: websockets>=10.4 in /opt/anaconda3/lib/python3.12/site-packages (from uvicorn[standard]>=0.18.3->chromadb==0.5.5->-r requirements.txt (line 1)) (15.0.1)\n",
      "Requirement already satisfied: humanfriendly>=9.1 in /opt/anaconda3/lib/python3.12/site-packages (from coloredlogs->onnxruntime>=1.14.1->chromadb==0.5.5->-r requirements.txt (line 1)) (10.0)\n",
      "Requirement already satisfied: MarkupSafe>=2.0 in /opt/anaconda3/lib/python3.12/site-packages (from jinja2->torch>=2.2.0->-r requirements.txt (line 11)) (2.1.3)\n",
      "Requirement already satisfied: joblib>=1.2.0 in /opt/anaconda3/lib/python3.12/site-packages (from scikit-learn->sentence-transformers==3.0.1->-r requirements.txt (line 3)) (1.4.2)\n",
      "Requirement already satisfied: threadpoolctl>=3.1.0 in /opt/anaconda3/lib/python3.12/site-packages (from scikit-learn->sentence-transformers==3.0.1->-r requirements.txt (line 3)) (3.5.0)\n",
      "Using cached python_dotenv-1.1.1-py3-none-any.whl (20 kB)\n",
      "Installing collected packages: python-dotenv\n",
      "  Attempting uninstall: python-dotenv\n",
      "    Found existing installation: python-dotenv 0.21.0\n",
      "    Uninstalling python-dotenv-0.21.0:\n",
      "      Successfully uninstalled python-dotenv-0.21.0\n",
      "Successfully installed python-dotenv-1.1.1\n"
     ]
    }
   ],
   "source": [
    "!pip install --upgrade pip\n",
    "!pip install -r requirements.txt"
   ]
  },
  {
   "cell_type": "code",
   "execution_count": 3,
   "id": "53cfd243-ce34-4783-bf3b-1c2add0da543",
   "metadata": {},
   "outputs": [
    {
     "name": "stderr",
     "output_type": "stream",
     "text": [
      "/opt/anaconda3/lib/python3.12/site-packages/sentence_transformers/cross_encoder/CrossEncoder.py:11: TqdmExperimentalWarning: Using `tqdm.autonotebook.tqdm` in notebook mode. Use `tqdm.tqdm` instead to force console mode (e.g. in jupyter console)\n",
      "  from tqdm.autonotebook import tqdm, trange\n"
     ]
    },
    {
     "name": "stdout",
     "output_type": "stream",
     "text": [
      "Chroma version: 0.5.5\n"
     ]
    },
    {
     "ename": "AttributeError",
     "evalue": "'NoneType' object has no attribute 'split'",
     "output_type": "error",
     "traceback": [
      "\u001b[0;31m---------------------------------------------------------------------------\u001b[0m",
      "\u001b[0;31mAttributeError\u001b[0m                            Traceback (most recent call last)",
      "Cell \u001b[0;32mIn[3], line 5\u001b[0m\n\u001b[1;32m      2\u001b[0m \u001b[38;5;28;01mfrom\u001b[39;00m \u001b[38;5;21;01msentence_transformers\u001b[39;00m \u001b[38;5;28;01mimport\u001b[39;00m SentenceTransformer\n\u001b[1;32m      4\u001b[0m \u001b[38;5;28mprint\u001b[39m(\u001b[38;5;124m\"\u001b[39m\u001b[38;5;124mChroma version:\u001b[39m\u001b[38;5;124m\"\u001b[39m, chromadb\u001b[38;5;241m.\u001b[39m__version__)\n\u001b[0;32m----> 5\u001b[0m \u001b[38;5;28mprint\u001b[39m(\u001b[38;5;124m\"\u001b[39m\u001b[38;5;124mPyMuPDF version:\u001b[39m\u001b[38;5;124m\"\u001b[39m, fitz\u001b[38;5;241m.\u001b[39m\u001b[38;5;18m__doc__\u001b[39m\u001b[38;5;241m.\u001b[39msplit()[\u001b[38;5;241m1\u001b[39m])\n",
      "\u001b[0;31mAttributeError\u001b[0m: 'NoneType' object has no attribute 'split'"
     ]
    }
   ],
   "source": [
    "import chromadb, fitz\n",
    "from sentence_transformers import SentenceTransformer\n",
    "\n",
    "print(\"Chroma version:\", chromadb.__version__)\n",
    "print(\"PyMuPDF version:\", fitz.__doc__.split()[1])\n",
    "\n"
   ]
  },
  {
   "cell_type": "code",
   "execution_count": null,
   "id": "c5a28944-73d3-4e1e-b418-25194cc4adae",
   "metadata": {},
   "outputs": [],
   "source": []
  }
 ],
 "metadata": {
  "kernelspec": {
   "display_name": "Python 3 (ipykernel)",
   "language": "python",
   "name": "python3"
  },
  "language_info": {
   "codemirror_mode": {
    "name": "ipython",
    "version": 3
   },
   "file_extension": ".py",
   "mimetype": "text/x-python",
   "name": "python",
   "nbconvert_exporter": "python",
   "pygments_lexer": "ipython3",
   "version": "3.12.7"
  }
 },
 "nbformat": 4,
 "nbformat_minor": 5
}
