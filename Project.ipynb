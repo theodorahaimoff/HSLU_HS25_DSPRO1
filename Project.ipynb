{
 "cells": [
  {
   "metadata": {},
   "cell_type": "markdown",
   "source": [
    "# Private Swiss Rental Law — RAG Pipeline (ChromaDB + Ollama)\n",
    "**Module**: DSPRO1 \\\n",
    "**Authors**: Kiana Kiser, Theodora Haimoff\n",
    "\n",
    "This notebook builds a **retrieval-augmented generation (RAG)** pipeline around your PDF sources (e.g., OR Mietrecht, VMWG, StGB excerpt).\n",
    "It converts PDFs → text → chunks → embeddings → **ChromaDB**. At query time, we retrieve the most relevant chunks and pass them to **Ollama** for context-aware answers."
   ],
   "id": "fe0abd20bd4ce5ef"
  },
  {
   "metadata": {},
   "cell_type": "markdown",
   "source": "## 1. Install dependencies",
   "id": "64878f214a93a12"
  },
  {
   "cell_type": "code",
   "id": "initial_id",
   "metadata": {
    "collapsed": true,
    "ExecuteTime": {
     "end_time": "2025-10-14T19:14:22.625030Z",
     "start_time": "2025-10-14T19:14:20.006723Z"
    }
   },
   "source": [
    "%pip install --upgrade pip\n",
    "%pip install -r requirements.txt"
   ],
   "outputs": [
    {
     "name": "stdout",
     "output_type": "stream",
     "text": [
      "Requirement already satisfied: pip in ./.venv/lib/python3.12/site-packages (25.2)\r\n",
      "Note: you may need to restart the kernel to use updated packages.\n",
      "Requirement already satisfied: chromadb==0.5.5 in ./.venv/lib/python3.12/site-packages (from -r requirements.txt (line 2)) (0.5.5)\r\n",
      "Requirement already satisfied: pymupdf==1.24.9 in ./.venv/lib/python3.12/site-packages (from -r requirements.txt (line 3)) (1.24.9)\r\n",
      "Requirement already satisfied: sentence-transformers==3.0.1 in ./.venv/lib/python3.12/site-packages (from -r requirements.txt (line 4)) (3.0.1)\r\n",
      "Requirement already satisfied: langchain-text-splitters==0.2.2 in ./.venv/lib/python3.12/site-packages (from -r requirements.txt (line 5)) (0.2.2)\r\n",
      "Requirement already satisfied: tqdm==4.66.4 in ./.venv/lib/python3.12/site-packages (from -r requirements.txt (line 6)) (4.66.4)\r\n",
      "Requirement already satisfied: torch>=2.2.0 in ./.venv/lib/python3.12/site-packages (from -r requirements.txt (line 9)) (2.8.0)\r\n",
      "Requirement already satisfied: accelerate>=0.27.0 in ./.venv/lib/python3.12/site-packages (from -r requirements.txt (line 10)) (1.10.1)\r\n",
      "Requirement already satisfied: black==24.3.0 in ./.venv/lib/python3.12/site-packages (from -r requirements.txt (line 13)) (24.3.0)\r\n",
      "Requirement already satisfied: isort==5.13.2 in ./.venv/lib/python3.12/site-packages (from -r requirements.txt (line 14)) (5.13.2)\r\n",
      "Requirement already satisfied: ruff==0.5.0 in ./.venv/lib/python3.12/site-packages (from -r requirements.txt (line 15)) (0.5.0)\r\n",
      "Requirement already satisfied: ipywidgets in ./.venv/lib/python3.12/site-packages (from -r requirements.txt (line 16)) (8.1.7)\r\n",
      "Requirement already satisfied: streamlit==1.37.0 in ./.venv/lib/python3.12/site-packages (from -r requirements.txt (line 19)) (1.37.0)\r\n",
      "Requirement already satisfied: build>=1.0.3 in ./.venv/lib/python3.12/site-packages (from chromadb==0.5.5->-r requirements.txt (line 2)) (1.3.0)\r\n",
      "Requirement already satisfied: pydantic>=1.9 in ./.venv/lib/python3.12/site-packages (from chromadb==0.5.5->-r requirements.txt (line 2)) (2.12.2)\r\n",
      "Requirement already satisfied: chroma-hnswlib==0.7.6 in ./.venv/lib/python3.12/site-packages (from chromadb==0.5.5->-r requirements.txt (line 2)) (0.7.6)\r\n",
      "Requirement already satisfied: fastapi>=0.95.2 in ./.venv/lib/python3.12/site-packages (from chromadb==0.5.5->-r requirements.txt (line 2)) (0.119.0)\r\n",
      "Requirement already satisfied: uvicorn>=0.18.3 in ./.venv/lib/python3.12/site-packages (from uvicorn[standard]>=0.18.3->chromadb==0.5.5->-r requirements.txt (line 2)) (0.37.0)\r\n",
      "Requirement already satisfied: numpy<2.0.0,>=1.22.5 in /usr/lib/python3/dist-packages (from chromadb==0.5.5->-r requirements.txt (line 2)) (1.26.4)\r\n",
      "Requirement already satisfied: posthog>=2.4.0 in ./.venv/lib/python3.12/site-packages (from chromadb==0.5.5->-r requirements.txt (line 2)) (6.7.7)\r\n",
      "Requirement already satisfied: typing-extensions>=4.5.0 in ./.venv/lib/python3.12/site-packages (from chromadb==0.5.5->-r requirements.txt (line 2)) (4.15.0)\r\n",
      "Requirement already satisfied: onnxruntime>=1.14.1 in ./.venv/lib/python3.12/site-packages (from chromadb==0.5.5->-r requirements.txt (line 2)) (1.23.1)\r\n",
      "Requirement already satisfied: opentelemetry-api>=1.2.0 in ./.venv/lib/python3.12/site-packages (from chromadb==0.5.5->-r requirements.txt (line 2)) (1.37.0)\r\n",
      "Requirement already satisfied: opentelemetry-exporter-otlp-proto-grpc>=1.2.0 in ./.venv/lib/python3.12/site-packages (from chromadb==0.5.5->-r requirements.txt (line 2)) (1.37.0)\r\n",
      "Requirement already satisfied: opentelemetry-instrumentation-fastapi>=0.41b0 in ./.venv/lib/python3.12/site-packages (from chromadb==0.5.5->-r requirements.txt (line 2)) (0.58b0)\r\n",
      "Requirement already satisfied: opentelemetry-sdk>=1.2.0 in ./.venv/lib/python3.12/site-packages (from chromadb==0.5.5->-r requirements.txt (line 2)) (1.37.0)\r\n",
      "Requirement already satisfied: tokenizers>=0.13.2 in ./.venv/lib/python3.12/site-packages (from chromadb==0.5.5->-r requirements.txt (line 2)) (0.22.1)\r\n",
      "Requirement already satisfied: pypika>=0.48.9 in ./.venv/lib/python3.12/site-packages (from chromadb==0.5.5->-r requirements.txt (line 2)) (0.48.9)\r\n",
      "Requirement already satisfied: overrides>=7.3.1 in ./.venv/lib/python3.12/site-packages (from chromadb==0.5.5->-r requirements.txt (line 2)) (7.7.0)\r\n",
      "Requirement already satisfied: importlib-resources in ./.venv/lib/python3.12/site-packages (from chromadb==0.5.5->-r requirements.txt (line 2)) (6.5.2)\r\n",
      "Requirement already satisfied: grpcio>=1.58.0 in ./.venv/lib/python3.12/site-packages (from chromadb==0.5.5->-r requirements.txt (line 2)) (1.75.1)\r\n",
      "Requirement already satisfied: bcrypt>=4.0.1 in ./.venv/lib/python3.12/site-packages (from chromadb==0.5.5->-r requirements.txt (line 2)) (5.0.0)\r\n",
      "Requirement already satisfied: typer>=0.9.0 in ./.venv/lib/python3.12/site-packages (from chromadb==0.5.5->-r requirements.txt (line 2)) (0.19.2)\r\n",
      "Requirement already satisfied: kubernetes>=28.1.0 in ./.venv/lib/python3.12/site-packages (from chromadb==0.5.5->-r requirements.txt (line 2)) (34.1.0)\r\n",
      "Requirement already satisfied: tenacity>=8.2.3 in ./.venv/lib/python3.12/site-packages (from chromadb==0.5.5->-r requirements.txt (line 2)) (8.5.0)\r\n",
      "Requirement already satisfied: PyYAML>=6.0.0 in /usr/lib/python3/dist-packages (from chromadb==0.5.5->-r requirements.txt (line 2)) (6.0.1)\r\n",
      "Requirement already satisfied: mmh3>=4.0.1 in ./.venv/lib/python3.12/site-packages (from chromadb==0.5.5->-r requirements.txt (line 2)) (5.2.0)\r\n",
      "Requirement already satisfied: orjson>=3.9.12 in ./.venv/lib/python3.12/site-packages (from chromadb==0.5.5->-r requirements.txt (line 2)) (3.11.3)\r\n",
      "Requirement already satisfied: httpx>=0.27.0 in /home/theodora/.local/lib/python3.12/site-packages (from chromadb==0.5.5->-r requirements.txt (line 2)) (0.28.1)\r\n",
      "Requirement already satisfied: PyMuPDFb==1.24.9 in ./.venv/lib/python3.12/site-packages (from pymupdf==1.24.9->-r requirements.txt (line 3)) (1.24.9)\r\n",
      "Requirement already satisfied: transformers<5.0.0,>=4.34.0 in ./.venv/lib/python3.12/site-packages (from sentence-transformers==3.0.1->-r requirements.txt (line 4)) (4.57.0)\r\n",
      "Requirement already satisfied: scikit-learn in ./.venv/lib/python3.12/site-packages (from sentence-transformers==3.0.1->-r requirements.txt (line 4)) (1.7.2)\r\n",
      "Requirement already satisfied: scipy in ./.venv/lib/python3.12/site-packages (from sentence-transformers==3.0.1->-r requirements.txt (line 4)) (1.16.2)\r\n",
      "Requirement already satisfied: huggingface-hub>=0.15.1 in ./.venv/lib/python3.12/site-packages (from sentence-transformers==3.0.1->-r requirements.txt (line 4)) (0.35.3)\r\n",
      "Requirement already satisfied: Pillow in /usr/lib/python3/dist-packages (from sentence-transformers==3.0.1->-r requirements.txt (line 4)) (10.2.0)\r\n",
      "Requirement already satisfied: langchain-core<0.3.0,>=0.2.10 in ./.venv/lib/python3.12/site-packages (from langchain-text-splitters==0.2.2->-r requirements.txt (line 5)) (0.2.43)\r\n",
      "Requirement already satisfied: click>=8.0.0 in /usr/lib/python3/dist-packages (from black==24.3.0->-r requirements.txt (line 13)) (8.1.6)\r\n",
      "Requirement already satisfied: mypy-extensions>=0.4.3 in ./.venv/lib/python3.12/site-packages (from black==24.3.0->-r requirements.txt (line 13)) (1.1.0)\r\n",
      "Requirement already satisfied: packaging>=22.0 in /usr/lib/python3/dist-packages (from black==24.3.0->-r requirements.txt (line 13)) (24.0)\r\n",
      "Requirement already satisfied: pathspec>=0.9.0 in ./.venv/lib/python3.12/site-packages (from black==24.3.0->-r requirements.txt (line 13)) (0.12.1)\r\n",
      "Requirement already satisfied: platformdirs>=2 in /home/theodora/.local/lib/python3.12/site-packages (from black==24.3.0->-r requirements.txt (line 13)) (4.4.0)\r\n",
      "Requirement already satisfied: altair<6,>=4.0 in ./.venv/lib/python3.12/site-packages (from streamlit==1.37.0->-r requirements.txt (line 19)) (5.5.0)\r\n",
      "Requirement already satisfied: blinker<2,>=1.0.0 in /usr/lib/python3/dist-packages (from streamlit==1.37.0->-r requirements.txt (line 19)) (1.7.0)\r\n",
      "Requirement already satisfied: cachetools<6,>=4.0 in ./.venv/lib/python3.12/site-packages (from streamlit==1.37.0->-r requirements.txt (line 19)) (5.5.2)\r\n",
      "Requirement already satisfied: pandas<3,>=1.3.0 in ./.venv/lib/python3.12/site-packages (from streamlit==1.37.0->-r requirements.txt (line 19)) (2.3.3)\r\n",
      "Requirement already satisfied: protobuf<6,>=3.20 in ./.venv/lib/python3.12/site-packages (from streamlit==1.37.0->-r requirements.txt (line 19)) (5.29.5)\r\n",
      "Requirement already satisfied: pyarrow>=7.0 in ./.venv/lib/python3.12/site-packages (from streamlit==1.37.0->-r requirements.txt (line 19)) (21.0.0)\r\n",
      "Requirement already satisfied: requests<3,>=2.27 in /usr/lib/python3/dist-packages (from streamlit==1.37.0->-r requirements.txt (line 19)) (2.31.0)\r\n",
      "Requirement already satisfied: rich<14,>=10.14.0 in /usr/lib/python3/dist-packages (from streamlit==1.37.0->-r requirements.txt (line 19)) (13.7.1)\r\n",
      "Requirement already satisfied: toml<2,>=0.10.1 in ./.venv/lib/python3.12/site-packages (from streamlit==1.37.0->-r requirements.txt (line 19)) (0.10.2)\r\n",
      "Requirement already satisfied: gitpython!=3.1.19,<4,>=3.0.7 in ./.venv/lib/python3.12/site-packages (from streamlit==1.37.0->-r requirements.txt (line 19)) (3.1.45)\r\n",
      "Requirement already satisfied: pydeck<1,>=0.8.0b4 in ./.venv/lib/python3.12/site-packages (from streamlit==1.37.0->-r requirements.txt (line 19)) (0.9.1)\r\n",
      "Requirement already satisfied: tornado<7,>=6.0.3 in /usr/lib/python3/dist-packages (from streamlit==1.37.0->-r requirements.txt (line 19)) (6.4)\r\n",
      "Requirement already satisfied: watchdog<5,>=2.1.5 in ./.venv/lib/python3.12/site-packages (from streamlit==1.37.0->-r requirements.txt (line 19)) (4.0.2)\r\n",
      "Requirement already satisfied: jinja2 in /usr/lib/python3/dist-packages (from altair<6,>=4.0->streamlit==1.37.0->-r requirements.txt (line 19)) (3.1.2)\r\n",
      "Requirement already satisfied: jsonschema>=3.0 in /home/theodora/.local/lib/python3.12/site-packages (from altair<6,>=4.0->streamlit==1.37.0->-r requirements.txt (line 19)) (4.25.1)\r\n",
      "Requirement already satisfied: narwhals>=1.14.2 in ./.venv/lib/python3.12/site-packages (from altair<6,>=4.0->streamlit==1.37.0->-r requirements.txt (line 19)) (2.8.0)\r\n",
      "Requirement already satisfied: gitdb<5,>=4.0.1 in ./.venv/lib/python3.12/site-packages (from gitpython!=3.1.19,<4,>=3.0.7->streamlit==1.37.0->-r requirements.txt (line 19)) (4.0.12)\r\n",
      "Requirement already satisfied: smmap<6,>=3.0.1 in ./.venv/lib/python3.12/site-packages (from gitdb<5,>=4.0.1->gitpython!=3.1.19,<4,>=3.0.7->streamlit==1.37.0->-r requirements.txt (line 19)) (5.0.2)\r\n",
      "Requirement already satisfied: jsonpatch<2.0,>=1.33 in ./.venv/lib/python3.12/site-packages (from langchain-core<0.3.0,>=0.2.10->langchain-text-splitters==0.2.2->-r requirements.txt (line 5)) (1.33)\r\n",
      "Requirement already satisfied: langsmith<0.2.0,>=0.1.112 in ./.venv/lib/python3.12/site-packages (from langchain-core<0.3.0,>=0.2.10->langchain-text-splitters==0.2.2->-r requirements.txt (line 5)) (0.1.147)\r\n",
      "Requirement already satisfied: jsonpointer>=1.9 in /home/theodora/.local/lib/python3.12/site-packages (from jsonpatch<2.0,>=1.33->langchain-core<0.3.0,>=0.2.10->langchain-text-splitters==0.2.2->-r requirements.txt (line 5)) (3.0.0)\r\n",
      "Requirement already satisfied: requests-toolbelt<2.0.0,>=1.0.0 in ./.venv/lib/python3.12/site-packages (from langsmith<0.2.0,>=0.1.112->langchain-core<0.3.0,>=0.2.10->langchain-text-splitters==0.2.2->-r requirements.txt (line 5)) (1.0.0)\r\n",
      "Requirement already satisfied: anyio in /home/theodora/.local/lib/python3.12/site-packages (from httpx>=0.27.0->chromadb==0.5.5->-r requirements.txt (line 2)) (4.10.0)\r\n",
      "Requirement already satisfied: certifi in /usr/lib/python3/dist-packages (from httpx>=0.27.0->chromadb==0.5.5->-r requirements.txt (line 2)) (2023.11.17)\r\n",
      "Requirement already satisfied: httpcore==1.* in /home/theodora/.local/lib/python3.12/site-packages (from httpx>=0.27.0->chromadb==0.5.5->-r requirements.txt (line 2)) (1.0.9)\r\n",
      "Requirement already satisfied: idna in /usr/lib/python3/dist-packages (from httpx>=0.27.0->chromadb==0.5.5->-r requirements.txt (line 2)) (3.6)\r\n",
      "Requirement already satisfied: h11>=0.16 in /home/theodora/.local/lib/python3.12/site-packages (from httpcore==1.*->httpx>=0.27.0->chromadb==0.5.5->-r requirements.txt (line 2)) (0.16.0)\r\n",
      "Requirement already satisfied: python-dateutil>=2.8.2 in /home/theodora/.local/lib/python3.12/site-packages (from pandas<3,>=1.3.0->streamlit==1.37.0->-r requirements.txt (line 19)) (2.9.0.post0)\r\n",
      "Requirement already satisfied: pytz>=2020.1 in /usr/lib/python3/dist-packages (from pandas<3,>=1.3.0->streamlit==1.37.0->-r requirements.txt (line 19)) (2024.1)\r\n",
      "Requirement already satisfied: tzdata>=2022.7 in ./.venv/lib/python3.12/site-packages (from pandas<3,>=1.3.0->streamlit==1.37.0->-r requirements.txt (line 19)) (2025.2)\r\n",
      "Requirement already satisfied: annotated-types>=0.6.0 in ./.venv/lib/python3.12/site-packages (from pydantic>=1.9->chromadb==0.5.5->-r requirements.txt (line 2)) (0.7.0)\r\n",
      "Requirement already satisfied: pydantic-core==2.41.4 in ./.venv/lib/python3.12/site-packages (from pydantic>=1.9->chromadb==0.5.5->-r requirements.txt (line 2)) (2.41.4)\r\n",
      "Requirement already satisfied: typing-inspection>=0.4.2 in ./.venv/lib/python3.12/site-packages (from pydantic>=1.9->chromadb==0.5.5->-r requirements.txt (line 2)) (0.4.2)\r\n",
      "Requirement already satisfied: markdown-it-py>=2.2.0 in /usr/lib/python3/dist-packages (from rich<14,>=10.14.0->streamlit==1.37.0->-r requirements.txt (line 19)) (3.0.0)\r\n",
      "Requirement already satisfied: pygments<3.0.0,>=2.13.0 in /usr/lib/python3/dist-packages (from rich<14,>=10.14.0->streamlit==1.37.0->-r requirements.txt (line 19)) (2.17.2)\r\n",
      "Requirement already satisfied: filelock in ./.venv/lib/python3.12/site-packages (from transformers<5.0.0,>=4.34.0->sentence-transformers==3.0.1->-r requirements.txt (line 4)) (3.20.0)\r\n",
      "Requirement already satisfied: regex!=2019.12.17 in ./.venv/lib/python3.12/site-packages (from transformers<5.0.0,>=4.34.0->sentence-transformers==3.0.1->-r requirements.txt (line 4)) (2025.9.18)\r\n",
      "Requirement already satisfied: safetensors>=0.4.3 in ./.venv/lib/python3.12/site-packages (from transformers<5.0.0,>=4.34.0->sentence-transformers==3.0.1->-r requirements.txt (line 4)) (0.6.2)\r\n",
      "Requirement already satisfied: fsspec>=2023.5.0 in ./.venv/lib/python3.12/site-packages (from huggingface-hub>=0.15.1->sentence-transformers==3.0.1->-r requirements.txt (line 4)) (2025.9.0)\r\n",
      "Requirement already satisfied: hf-xet<2.0.0,>=1.1.3 in ./.venv/lib/python3.12/site-packages (from huggingface-hub>=0.15.1->sentence-transformers==3.0.1->-r requirements.txt (line 4)) (1.1.10)\r\n",
      "Requirement already satisfied: setuptools in /usr/lib/python3/dist-packages (from torch>=2.2.0->-r requirements.txt (line 9)) (68.1.2)\r\n",
      "Requirement already satisfied: sympy>=1.13.3 in ./.venv/lib/python3.12/site-packages (from torch>=2.2.0->-r requirements.txt (line 9)) (1.14.0)\r\n",
      "Requirement already satisfied: networkx in ./.venv/lib/python3.12/site-packages (from torch>=2.2.0->-r requirements.txt (line 9)) (3.5)\r\n",
      "Requirement already satisfied: nvidia-cuda-nvrtc-cu12==12.8.93 in ./.venv/lib/python3.12/site-packages (from torch>=2.2.0->-r requirements.txt (line 9)) (12.8.93)\r\n",
      "Requirement already satisfied: nvidia-cuda-runtime-cu12==12.8.90 in ./.venv/lib/python3.12/site-packages (from torch>=2.2.0->-r requirements.txt (line 9)) (12.8.90)\r\n",
      "Requirement already satisfied: nvidia-cuda-cupti-cu12==12.8.90 in ./.venv/lib/python3.12/site-packages (from torch>=2.2.0->-r requirements.txt (line 9)) (12.8.90)\r\n",
      "Requirement already satisfied: nvidia-cudnn-cu12==9.10.2.21 in ./.venv/lib/python3.12/site-packages (from torch>=2.2.0->-r requirements.txt (line 9)) (9.10.2.21)\r\n",
      "Requirement already satisfied: nvidia-cublas-cu12==12.8.4.1 in ./.venv/lib/python3.12/site-packages (from torch>=2.2.0->-r requirements.txt (line 9)) (12.8.4.1)\r\n",
      "Requirement already satisfied: nvidia-cufft-cu12==11.3.3.83 in ./.venv/lib/python3.12/site-packages (from torch>=2.2.0->-r requirements.txt (line 9)) (11.3.3.83)\r\n",
      "Requirement already satisfied: nvidia-curand-cu12==10.3.9.90 in ./.venv/lib/python3.12/site-packages (from torch>=2.2.0->-r requirements.txt (line 9)) (10.3.9.90)\r\n",
      "Requirement already satisfied: nvidia-cusolver-cu12==11.7.3.90 in ./.venv/lib/python3.12/site-packages (from torch>=2.2.0->-r requirements.txt (line 9)) (11.7.3.90)\r\n",
      "Requirement already satisfied: nvidia-cusparse-cu12==12.5.8.93 in ./.venv/lib/python3.12/site-packages (from torch>=2.2.0->-r requirements.txt (line 9)) (12.5.8.93)\r\n",
      "Requirement already satisfied: nvidia-cusparselt-cu12==0.7.1 in ./.venv/lib/python3.12/site-packages (from torch>=2.2.0->-r requirements.txt (line 9)) (0.7.1)\r\n",
      "Requirement already satisfied: nvidia-nccl-cu12==2.27.3 in ./.venv/lib/python3.12/site-packages (from torch>=2.2.0->-r requirements.txt (line 9)) (2.27.3)\r\n",
      "Requirement already satisfied: nvidia-nvtx-cu12==12.8.90 in ./.venv/lib/python3.12/site-packages (from torch>=2.2.0->-r requirements.txt (line 9)) (12.8.90)\r\n",
      "Requirement already satisfied: nvidia-nvjitlink-cu12==12.8.93 in ./.venv/lib/python3.12/site-packages (from torch>=2.2.0->-r requirements.txt (line 9)) (12.8.93)\r\n",
      "Requirement already satisfied: nvidia-cufile-cu12==1.13.1.3 in ./.venv/lib/python3.12/site-packages (from torch>=2.2.0->-r requirements.txt (line 9)) (1.13.1.3)\r\n",
      "Requirement already satisfied: triton==3.4.0 in ./.venv/lib/python3.12/site-packages (from torch>=2.2.0->-r requirements.txt (line 9)) (3.4.0)\r\n",
      "Requirement already satisfied: psutil in /home/theodora/.local/lib/python3.12/site-packages (from accelerate>=0.27.0->-r requirements.txt (line 10)) (7.0.0)\r\n",
      "Requirement already satisfied: comm>=0.1.3 in /home/theodora/.local/lib/python3.12/site-packages (from ipywidgets->-r requirements.txt (line 16)) (0.2.3)\r\n",
      "Requirement already satisfied: ipython>=6.1.0 in /home/theodora/.local/lib/python3.12/site-packages (from ipywidgets->-r requirements.txt (line 16)) (9.5.0)\r\n",
      "Requirement already satisfied: traitlets>=4.3.1 in /home/theodora/.local/lib/python3.12/site-packages (from ipywidgets->-r requirements.txt (line 16)) (5.14.3)\r\n",
      "Requirement already satisfied: widgetsnbextension~=4.0.14 in ./.venv/lib/python3.12/site-packages (from ipywidgets->-r requirements.txt (line 16)) (4.0.14)\r\n",
      "Requirement already satisfied: jupyterlab_widgets~=3.0.15 in ./.venv/lib/python3.12/site-packages (from ipywidgets->-r requirements.txt (line 16)) (3.0.15)\r\n",
      "Requirement already satisfied: pyproject_hooks in ./.venv/lib/python3.12/site-packages (from build>=1.0.3->chromadb==0.5.5->-r requirements.txt (line 2)) (1.2.0)\r\n",
      "Requirement already satisfied: starlette<0.49.0,>=0.40.0 in ./.venv/lib/python3.12/site-packages (from fastapi>=0.95.2->chromadb==0.5.5->-r requirements.txt (line 2)) (0.48.0)\r\n",
      "Requirement already satisfied: sniffio>=1.1 in /home/theodora/.local/lib/python3.12/site-packages (from anyio->httpx>=0.27.0->chromadb==0.5.5->-r requirements.txt (line 2)) (1.3.1)\r\n",
      "Requirement already satisfied: decorator in /home/theodora/.local/lib/python3.12/site-packages (from ipython>=6.1.0->ipywidgets->-r requirements.txt (line 16)) (5.2.1)\r\n",
      "Requirement already satisfied: ipython-pygments-lexers in /home/theodora/.local/lib/python3.12/site-packages (from ipython>=6.1.0->ipywidgets->-r requirements.txt (line 16)) (1.1.1)\r\n",
      "Requirement already satisfied: jedi>=0.16 in /home/theodora/.local/lib/python3.12/site-packages (from ipython>=6.1.0->ipywidgets->-r requirements.txt (line 16)) (0.19.2)\r\n",
      "Requirement already satisfied: matplotlib-inline in /home/theodora/.local/lib/python3.12/site-packages (from ipython>=6.1.0->ipywidgets->-r requirements.txt (line 16)) (0.1.7)\r\n",
      "Requirement already satisfied: pexpect>4.3 in /usr/lib/python3/dist-packages (from ipython>=6.1.0->ipywidgets->-r requirements.txt (line 16)) (4.9.0)\r\n",
      "Requirement already satisfied: prompt_toolkit<3.1.0,>=3.0.41 in /home/theodora/.local/lib/python3.12/site-packages (from ipython>=6.1.0->ipywidgets->-r requirements.txt (line 16)) (3.0.52)\r\n",
      "Requirement already satisfied: stack_data in /home/theodora/.local/lib/python3.12/site-packages (from ipython>=6.1.0->ipywidgets->-r requirements.txt (line 16)) (0.6.3)\r\n",
      "Requirement already satisfied: wcwidth in /home/theodora/.local/lib/python3.12/site-packages (from prompt_toolkit<3.1.0,>=3.0.41->ipython>=6.1.0->ipywidgets->-r requirements.txt (line 16)) (0.2.13)\r\n",
      "Requirement already satisfied: parso<0.9.0,>=0.8.4 in /home/theodora/.local/lib/python3.12/site-packages (from jedi>=0.16->ipython>=6.1.0->ipywidgets->-r requirements.txt (line 16)) (0.8.5)\r\n",
      "Requirement already satisfied: attrs>=22.2.0 in /home/theodora/.local/lib/python3.12/site-packages (from jsonschema>=3.0->altair<6,>=4.0->streamlit==1.37.0->-r requirements.txt (line 19)) (25.3.0)\r\n",
      "Requirement already satisfied: jsonschema-specifications>=2023.03.6 in /home/theodora/.local/lib/python3.12/site-packages (from jsonschema>=3.0->altair<6,>=4.0->streamlit==1.37.0->-r requirements.txt (line 19)) (2025.9.1)\r\n",
      "Requirement already satisfied: referencing>=0.28.4 in /home/theodora/.local/lib/python3.12/site-packages (from jsonschema>=3.0->altair<6,>=4.0->streamlit==1.37.0->-r requirements.txt (line 19)) (0.36.2)\r\n",
      "Requirement already satisfied: rpds-py>=0.7.1 in /home/theodora/.local/lib/python3.12/site-packages (from jsonschema>=3.0->altair<6,>=4.0->streamlit==1.37.0->-r requirements.txt (line 19)) (0.27.1)\r\n",
      "Requirement already satisfied: six>=1.9.0 in /usr/lib/python3/dist-packages (from kubernetes>=28.1.0->chromadb==0.5.5->-r requirements.txt (line 2)) (1.16.0)\r\n",
      "Requirement already satisfied: google-auth>=1.0.1 in ./.venv/lib/python3.12/site-packages (from kubernetes>=28.1.0->chromadb==0.5.5->-r requirements.txt (line 2)) (2.41.1)\r\n",
      "Requirement already satisfied: websocket-client!=0.40.0,!=0.41.*,!=0.42.*,>=0.32.0 in /home/theodora/.local/lib/python3.12/site-packages (from kubernetes>=28.1.0->chromadb==0.5.5->-r requirements.txt (line 2)) (1.8.0)\r\n",
      "Requirement already satisfied: requests-oauthlib in ./.venv/lib/python3.12/site-packages (from kubernetes>=28.1.0->chromadb==0.5.5->-r requirements.txt (line 2)) (2.0.0)\r\n",
      "Requirement already satisfied: urllib3<2.4.0,>=1.24.2 in /usr/lib/python3/dist-packages (from kubernetes>=28.1.0->chromadb==0.5.5->-r requirements.txt (line 2)) (2.0.7)\r\n",
      "Requirement already satisfied: durationpy>=0.7 in ./.venv/lib/python3.12/site-packages (from kubernetes>=28.1.0->chromadb==0.5.5->-r requirements.txt (line 2)) (0.10)\r\n",
      "Requirement already satisfied: pyasn1-modules>=0.2.1 in ./.venv/lib/python3.12/site-packages (from google-auth>=1.0.1->kubernetes>=28.1.0->chromadb==0.5.5->-r requirements.txt (line 2)) (0.4.2)\r\n",
      "Requirement already satisfied: rsa<5,>=3.1.4 in ./.venv/lib/python3.12/site-packages (from google-auth>=1.0.1->kubernetes>=28.1.0->chromadb==0.5.5->-r requirements.txt (line 2)) (4.9.1)\r\n",
      "Requirement already satisfied: pyasn1>=0.1.3 in ./.venv/lib/python3.12/site-packages (from rsa<5,>=3.1.4->google-auth>=1.0.1->kubernetes>=28.1.0->chromadb==0.5.5->-r requirements.txt (line 2)) (0.6.1)\r\n",
      "Requirement already satisfied: mdurl~=0.1 in /usr/lib/python3/dist-packages (from markdown-it-py>=2.2.0->rich<14,>=10.14.0->streamlit==1.37.0->-r requirements.txt (line 19)) (0.1.2)\r\n",
      "Requirement already satisfied: coloredlogs in ./.venv/lib/python3.12/site-packages (from onnxruntime>=1.14.1->chromadb==0.5.5->-r requirements.txt (line 2)) (15.0.1)\r\n",
      "Requirement already satisfied: flatbuffers in ./.venv/lib/python3.12/site-packages (from onnxruntime>=1.14.1->chromadb==0.5.5->-r requirements.txt (line 2)) (25.9.23)\r\n",
      "Requirement already satisfied: importlib-metadata<8.8.0,>=6.0 in ./.venv/lib/python3.12/site-packages (from opentelemetry-api>=1.2.0->chromadb==0.5.5->-r requirements.txt (line 2)) (8.7.0)\r\n",
      "Requirement already satisfied: zipp>=3.20 in ./.venv/lib/python3.12/site-packages (from importlib-metadata<8.8.0,>=6.0->opentelemetry-api>=1.2.0->chromadb==0.5.5->-r requirements.txt (line 2)) (3.23.0)\r\n",
      "Requirement already satisfied: googleapis-common-protos~=1.57 in ./.venv/lib/python3.12/site-packages (from opentelemetry-exporter-otlp-proto-grpc>=1.2.0->chromadb==0.5.5->-r requirements.txt (line 2)) (1.70.0)\r\n",
      "Requirement already satisfied: opentelemetry-exporter-otlp-proto-common==1.37.0 in ./.venv/lib/python3.12/site-packages (from opentelemetry-exporter-otlp-proto-grpc>=1.2.0->chromadb==0.5.5->-r requirements.txt (line 2)) (1.37.0)\r\n",
      "Requirement already satisfied: opentelemetry-proto==1.37.0 in ./.venv/lib/python3.12/site-packages (from opentelemetry-exporter-otlp-proto-grpc>=1.2.0->chromadb==0.5.5->-r requirements.txt (line 2)) (1.37.0)\r\n",
      "Requirement already satisfied: opentelemetry-semantic-conventions==0.58b0 in ./.venv/lib/python3.12/site-packages (from opentelemetry-sdk>=1.2.0->chromadb==0.5.5->-r requirements.txt (line 2)) (0.58b0)\r\n",
      "Requirement already satisfied: opentelemetry-instrumentation-asgi==0.58b0 in ./.venv/lib/python3.12/site-packages (from opentelemetry-instrumentation-fastapi>=0.41b0->chromadb==0.5.5->-r requirements.txt (line 2)) (0.58b0)\r\n",
      "Requirement already satisfied: opentelemetry-instrumentation==0.58b0 in ./.venv/lib/python3.12/site-packages (from opentelemetry-instrumentation-fastapi>=0.41b0->chromadb==0.5.5->-r requirements.txt (line 2)) (0.58b0)\r\n",
      "Requirement already satisfied: opentelemetry-util-http==0.58b0 in ./.venv/lib/python3.12/site-packages (from opentelemetry-instrumentation-fastapi>=0.41b0->chromadb==0.5.5->-r requirements.txt (line 2)) (0.58b0)\r\n",
      "Requirement already satisfied: wrapt<2.0.0,>=1.0.0 in ./.venv/lib/python3.12/site-packages (from opentelemetry-instrumentation==0.58b0->opentelemetry-instrumentation-fastapi>=0.41b0->chromadb==0.5.5->-r requirements.txt (line 2)) (1.17.3)\r\n",
      "Requirement already satisfied: asgiref~=3.0 in ./.venv/lib/python3.12/site-packages (from opentelemetry-instrumentation-asgi==0.58b0->opentelemetry-instrumentation-fastapi>=0.41b0->chromadb==0.5.5->-r requirements.txt (line 2)) (3.10.0)\r\n",
      "Requirement already satisfied: backoff>=1.10.0 in ./.venv/lib/python3.12/site-packages (from posthog>=2.4.0->chromadb==0.5.5->-r requirements.txt (line 2)) (2.2.1)\r\n",
      "Requirement already satisfied: distro>=1.5.0 in /usr/lib/python3/dist-packages (from posthog>=2.4.0->chromadb==0.5.5->-r requirements.txt (line 2)) (1.9.0)\r\n",
      "Requirement already satisfied: mpmath<1.4,>=1.1.0 in ./.venv/lib/python3.12/site-packages (from sympy>=1.13.3->torch>=2.2.0->-r requirements.txt (line 9)) (1.3.0)\r\n",
      "Requirement already satisfied: shellingham>=1.3.0 in ./.venv/lib/python3.12/site-packages (from typer>=0.9.0->chromadb==0.5.5->-r requirements.txt (line 2)) (1.5.4)\r\n",
      "Requirement already satisfied: httptools>=0.6.3 in ./.venv/lib/python3.12/site-packages (from uvicorn[standard]>=0.18.3->chromadb==0.5.5->-r requirements.txt (line 2)) (0.7.1)\r\n",
      "Requirement already satisfied: python-dotenv>=0.13 in ./.venv/lib/python3.12/site-packages (from uvicorn[standard]>=0.18.3->chromadb==0.5.5->-r requirements.txt (line 2)) (1.1.1)\r\n",
      "Requirement already satisfied: uvloop>=0.15.1 in ./.venv/lib/python3.12/site-packages (from uvicorn[standard]>=0.18.3->chromadb==0.5.5->-r requirements.txt (line 2)) (0.21.0)\r\n",
      "Requirement already satisfied: watchfiles>=0.13 in ./.venv/lib/python3.12/site-packages (from uvicorn[standard]>=0.18.3->chromadb==0.5.5->-r requirements.txt (line 2)) (1.1.1)\r\n",
      "Requirement already satisfied: websockets>=10.4 in /usr/lib/python3/dist-packages (from uvicorn[standard]>=0.18.3->chromadb==0.5.5->-r requirements.txt (line 2)) (10.4)\r\n",
      "Requirement already satisfied: humanfriendly>=9.1 in ./.venv/lib/python3.12/site-packages (from coloredlogs->onnxruntime>=1.14.1->chromadb==0.5.5->-r requirements.txt (line 2)) (10.0)\r\n",
      "Requirement already satisfied: oauthlib>=3.0.0 in /usr/lib/python3/dist-packages (from requests-oauthlib->kubernetes>=28.1.0->chromadb==0.5.5->-r requirements.txt (line 2)) (3.2.2)\r\n",
      "Requirement already satisfied: joblib>=1.2.0 in ./.venv/lib/python3.12/site-packages (from scikit-learn->sentence-transformers==3.0.1->-r requirements.txt (line 4)) (1.5.2)\r\n",
      "Requirement already satisfied: threadpoolctl>=3.1.0 in ./.venv/lib/python3.12/site-packages (from scikit-learn->sentence-transformers==3.0.1->-r requirements.txt (line 4)) (3.6.0)\r\n",
      "Requirement already satisfied: executing>=1.2.0 in /home/theodora/.local/lib/python3.12/site-packages (from stack_data->ipython>=6.1.0->ipywidgets->-r requirements.txt (line 16)) (2.2.1)\r\n",
      "Requirement already satisfied: asttokens>=2.1.0 in /home/theodora/.local/lib/python3.12/site-packages (from stack_data->ipython>=6.1.0->ipywidgets->-r requirements.txt (line 16)) (3.0.0)\r\n",
      "Requirement already satisfied: pure-eval in /home/theodora/.local/lib/python3.12/site-packages (from stack_data->ipython>=6.1.0->ipywidgets->-r requirements.txt (line 16)) (0.2.3)\r\n",
      "Note: you may need to restart the kernel to use updated packages.\n"
     ]
    }
   ],
   "execution_count": 1
  },
  {
   "metadata": {},
   "cell_type": "markdown",
   "source": "## 2. Imports & Configuration",
   "id": "fa034d792e67e72d"
  },
  {
   "metadata": {
    "ExecuteTime": {
     "end_time": "2025-10-14T19:14:27.737786Z",
     "start_time": "2025-10-14T19:14:22.664738Z"
    }
   },
   "cell_type": "code",
   "source": [
    "import os, sys\n",
    "os.environ[\"CHROMA_TELEMETRY_ENABLED\"] = \"false\"\n",
    "os.environ[\"POSTHOG_DISABLED\"] = \"true\"\n",
    "\n",
    "import re\n",
    "from pathlib import Path\n",
    "import json, subprocess\n",
    "\n",
    "import fitz\n",
    "import chromadb\n",
    "\n",
    "from tqdm import tqdm\n",
    "from sentence_transformers import SentenceTransformer\n",
    "from langchain_text_splitters import RecursiveCharacterTextSplitter\n",
    "\n",
    "PDF_DIR = Path(\"./Data\")\n",
    "CHROMA_DIR = Path(\"./Chroma\")\n",
    "CHROMA_COLLECTION = \"swiss_private_rental_law\"\n",
    "_CHROMA_CLIENT = None\n",
    "EMBED_MODEL_NAME = \"sentence-transformers/all-MiniLM-L6-v2\"\n",
    "OLLAMA_MODEL = \"llama3:8b\"\n",
    "TOP_K = 5"
   ],
   "id": "e06e6695550befcb",
   "outputs": [
    {
     "name": "stderr",
     "output_type": "stream",
     "text": [
      "\u001B[0;93m2025-10-14 21:14:23.054161688 [W:onnxruntime:Default, device_discovery.cc:164 DiscoverDevicesForPlatform] GPU device discovery failed: device_discovery.cc:89 ReadFileContents Failed to open file: \"/sys/class/drm/card5/device/vendor\"\u001B[m\n",
      "/home/theodora/PycharmProjects/HSLU_HS25_DSPRO1/.venv/lib/python3.12/site-packages/sentence_transformers/cross_encoder/CrossEncoder.py:11: TqdmExperimentalWarning: Using `tqdm.autonotebook.tqdm` in notebook mode. Use `tqdm.tqdm` instead to force console mode (e.g. in jupyter console)\n",
      "  from tqdm.autonotebook import tqdm, trange\n"
     ]
    }
   ],
   "execution_count": 2
  },
  {
   "metadata": {
    "ExecuteTime": {
     "end_time": "2025-10-14T19:14:27.846108Z",
     "start_time": "2025-10-14T19:14:27.842654Z"
    }
   },
   "cell_type": "code",
   "source": [
    "pdfs = sorted(PDF_DIR.rglob(\"*.pdf\"))\n",
    "print(\"Found PDFs:\", len(pdfs))\n",
    "for pdf in pdfs:\n",
    "    try:\n",
    "        print(f\"Processing {pdf} size={pdf.stat().st_size} bytes\")\n",
    "    except FileNotFoundError:\n",
    "        print(f\"PDF {pdf} not found\")"
   ],
   "id": "a92aedc4e68b148",
   "outputs": [
    {
     "name": "stdout",
     "output_type": "stream",
     "text": [
      "Found PDFs: 2\n",
      "Processing Data/OR.pdf size=86218 bytes\n",
      "Processing Data/STGB.pdf size=31708 bytes\n"
     ]
    }
   ],
   "execution_count": 3
  },
  {
   "metadata": {},
   "cell_type": "markdown",
   "source": "## 3. Helper functions",
   "id": "fe8af02903b0956"
  },
  {
   "metadata": {
    "ExecuteTime": {
     "end_time": "2025-10-14T19:14:27.938266Z",
     "start_time": "2025-10-14T19:14:27.929092Z"
    }
   },
   "cell_type": "code",
   "source": [
    "# Text extraction\n",
    "def extract_pages_text(pdf_path: Path):\n",
    "    try:\n",
    "        with fitz.open(pdf_path) as doc:\n",
    "            for i, page in enumerate(doc):\n",
    "                # get_text(\"text\") is the default; \"blocks\" sometimes helps, but simpler is fine for law PDFs\n",
    "                text = page.get_text()\n",
    "                yield i + 1, text\n",
    "    except Exception as e:\n",
    "        raise RuntimeError(f\"Failed to extract pages from {pdf_path}: {e}\")\n",
    "\n",
    "def clean_text(t: str) -> str:\n",
    "    t = t.replace('\\x0c', ' ').replace('\\u00ad', '') # form feeds, soft hyphens\n",
    "    t = re.sub(r'\\s+', ' ', t) # collapse whitespace\n",
    "    return t.strip()\n",
    "\n",
    "# Chunking\n",
    "def chunk_text(text: str, chunk_size=900, chunk_overlap=200):\n",
    "    splitter = RecursiveCharacterTextSplitter(separators=[\n",
    "        \"\\n\\n\", # paragraphs\n",
    "        \".\\n\", \"? \", \"! \", # sentence ends\n",
    "        \"\\n\", # single newline\n",
    "        \" \" # fallback\n",
    "    ], chunk_size=chunk_size, chunk_overlap=chunk_overlap)\n",
    "    return splitter.split_text(text)\n",
    "\n",
    "# Embeddings\n",
    "_embedder = None\n",
    "def get_embedder(name: str = None):\n",
    "    global _embedder\n",
    "    if _embedder is None:\n",
    "        model_name = name or EMBED_MODEL_NAME\n",
    "        _embedder = SentenceTransformer(model_name)\n",
    "    return _embedder\n",
    "\n",
    "def embed_texts(texts):\n",
    "    model = get_embedder()\n",
    "    return model.encode(texts, show_progress_bar=True, normalize_embeddings=True).tolist()\n",
    "\n",
    "# Chroma setup\n",
    "def get_chroma_client(persist_dir_str: str) -> chromadb.PersistentClient:\n",
    "    \"\"\"Return a single shared PersistentClient instance for this process.\"\"\"\n",
    "    global _CHROMA_CLIENT\n",
    "    if _CHROMA_CLIENT is None:\n",
    "        _CHROMA_CLIENT = chromadb.PersistentClient(path=persist_dir_str)\n",
    "    return _CHROMA_CLIENT\n",
    "\n",
    "def get_chroma_collection(persist_dir: Path, collection_name: str):\n",
    "    \"\"\"Create or get a persistent collection using the shared client.\"\"\"\n",
    "    client = get_chroma_client(str(persist_dir))\n",
    "    try:\n",
    "        return client.get_collection(collection_name)\n",
    "    except Exception:\n",
    "        return client.create_collection(collection_name)\n",
    "\n",
    "def count_collection(col):\n",
    "    try:\n",
    "        return col.count()\n",
    "    except Exception as e:\n",
    "        print(\"Count failed:\", e)\n",
    "        return None"
   ],
   "id": "56e9d3c1b2ed62d9",
   "outputs": [],
   "execution_count": 4
  },
  {
   "metadata": {},
   "cell_type": "markdown",
   "source": "## 4. Ingest PDFs &rarr; Chroma DB",
   "id": "9bbabd8224fad896"
  },
  {
   "metadata": {
    "ExecuteTime": {
     "end_time": "2025-10-14T19:14:31.543637Z",
     "start_time": "2025-10-14T19:14:28.039861Z"
    }
   },
   "cell_type": "code",
   "source": [
    "def ingest_pdf_folder(pdf_dir: Path, persist_dir: Path, collection_name: str, source_tag: str = None):\n",
    "    pdf_paths = sorted([p for p in pdf_dir.glob(\"**/*.pdf\")])\n",
    "    if not pdf_paths:\n",
    "        print(f\"No pdf files found in {pdf_dir}. Check the directory and try again.\")\n",
    "        return None\n",
    "\n",
    "    collection = get_chroma_collection(persist_dir=persist_dir, collection_name=collection_name)\n",
    "    print(f\"Collection: {collection_name} | existing docs: {count_collection(collection)}\\n\")\n",
    "\n",
    "    embedder = get_embedder()\n",
    "\n",
    "    ids_batch, docs_batch, metas_batch, embeds_batch = [], [], [], []\n",
    "    batch_size = 64\n",
    "    doc_counter = count_collection(collection) or 0\n",
    "\n",
    "    for pdf in pdf_paths:\n",
    "        print(f\"Processing {pdf.name}...\")\n",
    "        for page_no, page_text in tqdm(extract_pages_text(pdf), total=None):\n",
    "            page_text = clean_text(page_text)\n",
    "            if not page_text:\n",
    "                continue\n",
    "            chunks = chunk_text(page_text)\n",
    "            if not chunks:\n",
    "                continue\n",
    "\n",
    "            # metadata\n",
    "            for ch in chunks:\n",
    "                ids_batch.append(f\"{pdf.stem}-p{page_no}-{doc_counter}\")\n",
    "                docs_batch.append(ch)\n",
    "                metas_batch.append({\n",
    "                    \"source\": pdf.name,\n",
    "                    \"path\": str(pdf.resolve()),\n",
    "                    \"page\": page_no,\n",
    "                })\n",
    "                doc_counter += 1\n",
    "\n",
    "                if len(ids_batch) >= batch_size:\n",
    "                    embeds_batch = embed_texts(docs_batch)\n",
    "                    collection.add(ids=ids_batch, documents=docs_batch, metadatas=metas_batch, embeddings=embeds_batch)\n",
    "                    ids_batch, docs_batch, metas_batch, embeds_batch = [], [], [], []\n",
    "\n",
    "    if docs_batch:\n",
    "        embeds_batch = embed_texts(docs_batch)\n",
    "        collection.add(ids=ids_batch, documents=docs_batch, metadatas=metas_batch, embeddings=embeds_batch)\n",
    "\n",
    "    print(f\"Finished processing {len(pdf_paths)} PDFs. Collection now has {count_collection(collection)} chunks.\")\n",
    "    return collection\n",
    "\n",
    "# Run ingestion\n",
    "_ = ingest_pdf_folder(PDF_DIR, CHROMA_DIR, CHROMA_COLLECTION)\n",
    "collection = get_chroma_collection(CHROMA_DIR, CHROMA_COLLECTION)\n",
    "print(\"Chunks: \", collection.count())"
   ],
   "id": "fd9d6de89d048c7a",
   "outputs": [
    {
     "name": "stderr",
     "output_type": "stream",
     "text": [
      "Failed to send telemetry event ClientStartEvent: capture() takes 1 positional argument but 3 were given\n",
      "Failed to send telemetry event ClientCreateCollectionEvent: capture() takes 1 positional argument but 3 were given\n",
      "/home/theodora/PycharmProjects/HSLU_HS25_DSPRO1/.venv/lib/python3.12/site-packages/torch/cuda/__init__.py:182: UserWarning: CUDA initialization: CUDA unknown error - this may be due to an incorrectly set up environment, e.g. changing env variable CUDA_VISIBLE_DEVICES after program start. Setting the available devices to be zero. (Triggered internally at /pytorch/c10/cuda/CUDAFunctions.cpp:109.)\n",
      "  return torch._C._cuda_getDeviceCount() > 0\n"
     ]
    },
    {
     "name": "stdout",
     "output_type": "stream",
     "text": [
      "Collection: swiss_private_rental_law | existing docs: 0\n",
      "\n",
      "Processing OR.pdf...\n"
     ]
    },
    {
     "name": "stderr",
     "output_type": "stream",
     "text": [
      "12it [00:00, 223.43it/s]\n"
     ]
    },
    {
     "name": "stdout",
     "output_type": "stream",
     "text": [
      "Processing STGB.pdf...\n"
     ]
    },
    {
     "name": "stderr",
     "output_type": "stream",
     "text": [
      "1it [00:00, 238.08it/s]\n"
     ]
    },
    {
     "data": {
      "text/plain": [
       "Batches:   0%|          | 0/2 [00:00<?, ?it/s]"
      ],
      "application/vnd.jupyter.widget-view+json": {
       "version_major": 2,
       "version_minor": 0,
       "model_id": "943b5b0434c84bc09edbc607acaf9beb"
      }
     },
     "metadata": {},
     "output_type": "display_data",
     "jetTransient": {
      "display_id": null
     }
    },
    {
     "name": "stderr",
     "output_type": "stream",
     "text": [
      "Failed to send telemetry event CollectionAddEvent: capture() takes 1 positional argument but 3 were given\n"
     ]
    },
    {
     "name": "stdout",
     "output_type": "stream",
     "text": [
      "Finished processing 2 PDFs. Collection now has 59 chunks.\n",
      "Chunks:  59\n"
     ]
    }
   ],
   "execution_count": 5
  },
  {
   "metadata": {},
   "cell_type": "markdown",
   "source": "## 5. Retrieval helper",
   "id": "286d770378580402"
  },
  {
   "metadata": {
    "ExecuteTime": {
     "end_time": "2025-10-14T19:14:31.636592Z",
     "start_time": "2025-10-14T19:14:31.608030Z"
    }
   },
   "cell_type": "code",
   "source": [
    "def retrieve(query: str, k: int = TOP_K, collection_name: str = CHROMA_COLLECTION):\n",
    "    collection = get_chroma_collection(CHROMA_DIR, collection_name)\n",
    "    q_emb = embed_texts([query])[0]\n",
    "    res = collection.query(query_embeddings=[q_emb], n_results=k, include=['documents', 'metadatas', 'distances'])\n",
    "\n",
    "    # Flatten first result list\n",
    "    docs = res.get('documents', [[]])[0]\n",
    "    metas = res.get('metadatas', [[]])[0]\n",
    "    dists = res.get('distances', [[]])[0]\n",
    "    return list(zip(docs, metas, dists))\n",
    "\n",
    "# Quick test:\n",
    "retrieve(\"What are the tenant protections against retaliatory termination?\")"
   ],
   "id": "a513927d98acf60b",
   "outputs": [
    {
     "data": {
      "text/plain": [
       "Batches:   0%|          | 0/1 [00:00<?, ?it/s]"
      ],
      "application/vnd.jupyter.widget-view+json": {
       "version_major": 2,
       "version_minor": 0,
       "model_id": "6601e670eb804eab8d75aebd1486bf1b"
      }
     },
     "metadata": {},
     "output_type": "display_data",
     "jetTransient": {
      "display_id": null
     }
    },
    {
     "name": "stderr",
     "output_type": "stream",
     "text": [
      "Failed to send telemetry event CollectionQueryEvent: capture() takes 1 positional argument but 3 were given\n"
     ]
    },
    {
     "data": {
      "text/plain": [
       "[('des Mietverhältnisses, Anspruch des Mieters 1 Der Mieter kann die Erstreckung eines befristeten oder unbefristeten Mietverhältnisses verlangen, wenn die Beendigung der Miete für ihn oder seine Familie eine Härte zur Folge hätte, die durch die Interessen des Vermieters nicht zu rechtfertigen wäre. 2 Bei der Interessenabwägung berücksichtigt die zuständige Behörde insbesondere: a. die Umstände des Vertragsabschlusses und den Inhalt des Vertrags; b. die Dauer des Mietverhältnisses; c. die persönlichen, familiären und wirtschaftlichen Verhältnisse der Parteien und deren Verhalten; d. einen allfälligen Eigenbedarf des Vermieters für sich, nahe Verwandte oder Verschwägerte sowie die Dringlichkeit dieses Bedarfs; e. die Verhältnisse auf dem örtlichen Markt für Wohn- und Geschäftsräume. 3 Verlangt der Mieter eine zweite Erstreckung, so berücksichtigt die zuständige Behörde auch, ob er zur',\n",
       "  {'page': 9,\n",
       "   'path': '/home/theodora/PycharmProjects/HSLU_HS25_DSPRO1/Data/OR.pdf',\n",
       "   'source': 'OR.pdf'},\n",
       "  1.6651331702917163),\n",
       " ('Untermieter ohne Rücksicht auf das Hauptmietverhältnis Kündigungsschutz gewährt. Wird das Hauptmietverhältnis gekündigt, so tritt der Vermieter anstelle des Mieters in den Vertrag mit dem Untermieter ein. Art. 273c, Zwingende Bestimmungen 1 Der Mieter kann auf Rechte, die ihm nach diesem Abschnitt zustehen, nur verzichten, wenn dies ausdrücklich vorgesehen ist. 2 Abweichende Vereinbarungen sind nichtig. Vierter Abschnitt: Behörden und Verfahren Art. 274, Grundsatz Die Kantone bezeichnen die zuständigen Behörden und regeln das Verfahren.',\n",
       "  {'page': 10,\n",
       "   'path': '/home/theodora/PycharmProjects/HSLU_HS25_DSPRO1/Data/OR.pdf',\n",
       "   'source': 'OR.pdf'},\n",
       "  1.7129172119557816),\n",
       " ('Organe, die in Rahmenmietverträgen oder ähnlichen Abkommen vorgesehen sind, als Schlichtungsbehörden bezeichnen. Art. 274b, Gerichtsstand 1 Zuständig für Streitigkeiten aus dem Mietverhältnis sind: a. bei der Miete unbeweglicher Sachen die Schlichtungsbehörde und der Richter am Ort der Sache; b. bei der Miete beweglicher Sachen der Richter am Wohnsitz des Beklagten. 2 Der in der Schweiz wohnhafte Mieter kann nicht zum voraus auf den Gerichtsstand nach Absatz 1 verzichten bei: a. Wohnräumen; b. beweglichen Sachen, die seinem privaten Gebrauch dienen und vom Vermieter im Rahmen seiner gewerblichen Tätigkeit vermietet werden. Art. 274c, Schiedsgericht Bei der Miete von Wohnräumen dürfen die Parteien die Zuständigkeit der Schlichtungsbehörden und der richterlichen Behörden nicht durch vertraglich vereinbarte Schiedsgerichte ausschliessen. Artikel 274a Absatz 1 Buchstabe e bleibt',\n",
       "  {'page': 11,\n",
       "   'path': '/home/theodora/PycharmProjects/HSLU_HS25_DSPRO1/Data/OR.pdf',\n",
       "   'source': 'OR.pdf'},\n",
       "  1.7129516504245137),\n",
       " ('die Parteien die Zuständigkeit der Schlichtungsbehörden und der richterlichen Behörden nicht durch vertraglich vereinbarte Schiedsgerichte ausschliessen. Artikel 274a Absatz 1 Buchstabe e bleibt vorbehalten. Art. 274d, Verfahren bei der Miete von Wohn- und Geschäftsräumen, Grundsatz 1 Die Kantone sehen für Streitigkeiten aus der Miete von Wohn- und Geschäftsräumen ein einfaches und rasches Verfahren vor. 2 Das Verfahren vor der Schlichtungsbehörde ist kostenlos; bei mutwilliger Prozessführung kann jedoch die fehlbare Partei zur gänzlichen oder teilweisen Übernahme der Verfahrenskosten und zur Leistung einer Entschädigung an die andere Partei verpflichtet werden. 3 Schlichtungsbehörde und Richter stellen den Sachverhalt von Amtes wegen fest und würdigen die Beweise nach freiem Ermessen; die Parteien müssen ihnen alle für die Beurteilung des Streitfalls notwendigen Unterlagen vorlegen.',\n",
       "  {'page': 11,\n",
       "   'path': '/home/theodora/PycharmProjects/HSLU_HS25_DSPRO1/Data/OR.pdf',\n",
       "   'source': 'OR.pdf'},\n",
       "  1.7141672676308342),\n",
       " ('Obligationenrecht (OR) Achter Titel: Die Miete Erster Abschnitt: Allgemeine Bestimmungen Art. 253, Begriff und Geltungsbereich, Begriff Durch den Mietvertrag verpflichtet sich der Vermieter, dem Mieter eine Sache zum Gebrauch zu überlassen, und der Mieter, dem Vermieter dafür einen Mietzins zu leisten. Art. 253a, Geltungsbereich, Wohn- und Geschäftsräume 1 Die Bestimmungen über die Miete von Wohn- und Geschäftsräumen gelten auch für Sachen, die der Vermieter zusammen mit diesen Räumen dem Mieter zum Gebrauch überlässt. 2 Sie gelten nicht für Ferienwohnungen, die für höchstens drei Monate gemietet werden. 3 Der Bundesrat erlässt die Ausführungsvorschriften. Art. 253b, Bestimmungen über den Schutz vor missbräuchlichen Mietzinsen 1 Die Bestimmungen über den Schutz vor missbräuchlichen Mietzinsen (Art. 269 ff.) gelten sinngemäss für nichtlandwirtschaftliche Pacht- und andere Verträge, die im',\n",
       "  {'page': 1,\n",
       "   'path': '/home/theodora/PycharmProjects/HSLU_HS25_DSPRO1/Data/OR.pdf',\n",
       "   'source': 'OR.pdf'},\n",
       "  1.7219061396708106)]"
      ]
     },
     "execution_count": 6,
     "metadata": {},
     "output_type": "execute_result"
    }
   ],
   "execution_count": 6
  },
  {
   "metadata": {},
   "cell_type": "markdown",
   "source": "## 6. Generate answer with Ollama (context-packed)",
   "id": "2aaf9a8a343dddee"
  },
  {
   "metadata": {
    "ExecuteTime": {
     "end_time": "2025-10-14T19:14:32.338192Z",
     "start_time": "2025-10-14T19:14:31.664472Z"
    }
   },
   "cell_type": "code",
   "source": [
    "def pack_context(retrieved, max_chars=8000):\n",
    "    \"\"\"Join top documents into a single context string with source markers, bounded by max_chars.\"\"\"\n",
    "    ctx = []\n",
    "    total = 0\n",
    "    for i, (doc, meta, dist) in enumerate(retrieved, 1):\n",
    "        stamp = f\"[source: {meta.get('source', '')} p.{meta.get('page')}]\\n\"\n",
    "        block = f\"{stamp}\\n{doc.strip()}\\n\\n\"\n",
    "        if total + len(block) > max_chars:\n",
    "            break\n",
    "        ctx.append(block)\n",
    "        total += len(block)\n",
    "    return \"\".join(ctx)\n",
    "\n",
    "def answer_with_ollama(question: str, k: int = TOP_K, model: str = OLLAMA_MODEL, max_ctx_chars: int = 8000):\n",
    "    hits = retrieve(question, k=k)\n",
    "    context = pack_context(hits, max_chars=max_ctx_chars)\n",
    "    prompt = f\"\"\"\"You are a Swiss rental-law assistant. Answer in plain, simple English. Use ONLY the provided context. Be concise and practical. Format STRICTLY like this:\n",
    "            1) One-sentence answer.\n",
    "            2) Short numbered list of options/steps.\n",
    "            3) Forms required (exact names, if present in context).\n",
    "            4) Articles to read next (e.g., Art. 269, Art. 270 OR; Art. 14 VMWG).\n",
    "            Then 'References:' with [filename p.X] for each distinct source used.\n",
    "            If context is insufficient, say so. Context: {context} Question: {question} Answer: \"\"\"\n",
    "\n",
    "    # Call ollama\n",
    "    try:\n",
    "        proc = subprocess.run(\n",
    "            [\"ollama\", \"run\", model],\n",
    "            input=prompt.encode(\"utf-8\"),\n",
    "            stdout=subprocess.PIPE,\n",
    "            stderr=subprocess.PIPE,\n",
    "            check=False\n",
    "        )\n",
    "        out = proc.stdout.decode(\"utf-8\", errors=\"ignore\")\n",
    "        err = proc.stderr.decode(\"utf-8\", errors=\"ignore\")\n",
    "        return out, err, hits\n",
    "    except FileNotFoundError:\n",
    "        return \"[Ollama not found. Install from https://ollama.com and ensure it's on PATH]\", \"\", hits\n",
    "\n",
    "# Example:\n",
    "out, err, hits = answer_with_ollama(\"How do I contest a rent increase? What form is required?\", k=6)\n",
    "print(out)\n",
    "hits[:2]\n"
   ],
   "id": "a2dcf6afde12b78b",
   "outputs": [
    {
     "data": {
      "text/plain": [
       "Batches:   0%|          | 0/1 [00:00<?, ?it/s]"
      ],
      "application/vnd.jupyter.widget-view+json": {
       "version_major": 2,
       "version_minor": 0,
       "model_id": "65f6ae08ec904811951c73839fb68b5b"
      }
     },
     "metadata": {},
     "output_type": "display_data",
     "jetTransient": {
      "display_id": null
     }
    },
    {
     "name": "stdout",
     "output_type": "stream",
     "text": [
      "\n"
     ]
    },
    {
     "data": {
      "text/plain": [
       "[('Auszug aus dem Strafgesetzbuch (StgB) Art. 325bis Widerhandlungen gegen die Bestimmungen zum Schutz der Mieter von Wohn- und Geschäftsräumen. Wer den Mieter unter Androhung von Nachteilen, insbesondere der späteren Kündigung des Mietverhältnisses, davon abhält oder abzuhalten versucht, Mietzinse oder sonstige Forderungen des Vermieters anzufechten, wer dem Mieter kündigt, weil dieser die ihm nach dem Obligationenrecht zustehenden Rechte wahrnimmt oder wahrnehmen will, wer Mietzinse oder sonstige Forderungen nach einem gescheiterten Einigungsversuch oder nach einem richterlichen Entscheid in unzulässiger Weise durchsetzt oder durchzusetzen versucht, wird auf Antrag des Mieters mit Busse bestraft. Art. 326bis Werden die im Artikel 325bis unter Strafe gestellten Handlungen beim Besorgen der Angelegenheiten einer juristischen Person, Kollektiv- oder Kommanditgesellschaft oder Einzelfirma',\n",
       "  {'page': 1,\n",
       "   'path': '/home/theodora/PycharmProjects/HSLU_HS25_DSPRO1/Data/STGB.pdf',\n",
       "   'source': 'STGB.pdf'},\n",
       "  1.7729477392202786),\n",
       " ('Obligationenrecht (OR) Achter Titel: Die Miete Erster Abschnitt: Allgemeine Bestimmungen Art. 253, Begriff und Geltungsbereich, Begriff Durch den Mietvertrag verpflichtet sich der Vermieter, dem Mieter eine Sache zum Gebrauch zu überlassen, und der Mieter, dem Vermieter dafür einen Mietzins zu leisten. Art. 253a, Geltungsbereich, Wohn- und Geschäftsräume 1 Die Bestimmungen über die Miete von Wohn- und Geschäftsräumen gelten auch für Sachen, die der Vermieter zusammen mit diesen Räumen dem Mieter zum Gebrauch überlässt. 2 Sie gelten nicht für Ferienwohnungen, die für höchstens drei Monate gemietet werden. 3 Der Bundesrat erlässt die Ausführungsvorschriften. Art. 253b, Bestimmungen über den Schutz vor missbräuchlichen Mietzinsen 1 Die Bestimmungen über den Schutz vor missbräuchlichen Mietzinsen (Art. 269 ff.) gelten sinngemäss für nichtlandwirtschaftliche Pacht- und andere Verträge, die im',\n",
       "  {'page': 1,\n",
       "   'path': '/home/theodora/PycharmProjects/HSLU_HS25_DSPRO1/Data/OR.pdf',\n",
       "   'source': 'OR.pdf'},\n",
       "  1.8145356762242548)]"
      ]
     },
     "execution_count": 7,
     "metadata": {},
     "output_type": "execute_result"
    }
   ],
   "execution_count": 7
  },
  {
   "metadata": {},
   "cell_type": "markdown",
   "source": "## 7. Maintenance & utilities",
   "id": "dffdc143e6f7ce2d"
  },
  {
   "metadata": {
    "ExecuteTime": {
     "end_time": "2025-10-14T19:14:32.347950Z",
     "start_time": "2025-10-14T19:14:32.344964Z"
    }
   },
   "cell_type": "code",
   "source": [
    "def wipe_collection(persist_dir: Path = CHROMA_DIR, collection_name: str = CHROMA_COLLECTION):\n",
    "    client = get_chroma_client(persist_dir)\n",
    "    try:\n",
    "        client.delete_collection(collection_name)\n",
    "        print(f\"Deleted collection {collection_name}\")\n",
    "    except Exception as e:\n",
    "        print(\"Failed to delete collection:\", e)\n",
    "\n",
    "def list_collections(persist_dir: Path = CHROMA_DIR):\n",
    "    client = get_chroma_client(str(persist_dir))\n",
    "    return client.list_collections()"
   ],
   "id": "ba547cac76173d7",
   "outputs": [],
   "execution_count": 8
  },
  {
   "metadata": {
    "ExecuteTime": {
     "end_time": "2025-10-14T19:14:32.411371Z",
     "start_time": "2025-10-14T19:14:32.403316Z"
    }
   },
   "cell_type": "code",
   "source": "list_collections()",
   "id": "383e3515050eb10",
   "outputs": [
    {
     "data": {
      "text/plain": [
       "[Collection(id=ef25eb2b-2f9d-4e6b-9363-e1f40750a733, name=swiss_private_rental_law)]"
      ]
     },
     "execution_count": 9,
     "metadata": {},
     "output_type": "execute_result"
    }
   ],
   "execution_count": 9
  },
  {
   "metadata": {
    "ExecuteTime": {
     "end_time": "2025-10-14T19:14:32.509767Z",
     "start_time": "2025-10-14T19:14:32.459512Z"
    }
   },
   "cell_type": "code",
   "source": "wipe_collection()",
   "id": "bc2f3d782e9326f6",
   "outputs": [
    {
     "name": "stdout",
     "output_type": "stream",
     "text": [
      "Deleted collection swiss_private_rental_law\n"
     ]
    }
   ],
   "execution_count": 10
  }
 ],
 "metadata": {
  "kernelspec": {
   "display_name": "Python 3",
   "language": "python",
   "name": "python3"
  },
  "language_info": {
   "codemirror_mode": {
    "name": "ipython",
    "version": 2
   },
   "file_extension": ".py",
   "mimetype": "text/x-python",
   "name": "python",
   "nbconvert_exporter": "python",
   "pygments_lexer": "ipython2",
   "version": "2.7.6"
  }
 },
 "nbformat": 4,
 "nbformat_minor": 5
}
